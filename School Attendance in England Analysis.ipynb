{
 "cells": [
  {
   "cell_type": "markdown",
   "id": "b465aced-5408-468e-bcc3-9827d4117cdd",
   "metadata": {},
   "source": [
    "***Analysis of latest DfE attendance data***\n",
    "\n",
    "Data releases used in this analysis:\n",
    "\n",
    "2024/25 ytd Autumn term - https://explore-education-statistics.service.gov.uk/data-catalogue/data-set/ec860485-2138-4b9d-9759-4a0a1d629aec\n",
    "\n",
    "2024/25 daily Autumn term - https://explore-education-statistics.service.gov.uk/data-catalogue/data-set/4f5acff8-8af0-4622-98be-054cafb24cf6\n",
    "\n",
    "2023/24 ytd Autumn term - https://explore-education-statistics.service.gov.uk/data-catalogue/data-set/1722df9c-85b5-4133-9f2b-8ff5a38653d0\n",
    "\n",
    "2023/24 daily Autumn term - https://explore-education-statistics.service.gov.uk/data-catalogue/data-set/57815838-fc5b-48e5-993b-3497accbe874\n",
    "\n",
    "2022/23 ytd Autumn term - https://explore-education-statistics.service.gov.uk/data-catalogue/data-set/e76122d1-63f3-4426-a94a-cf6a12ee26ed"
   ]
  },
  {
   "cell_type": "code",
   "execution_count": 1,
   "id": "d28a68cb-caeb-4ee6-83ac-a8feda293bb9",
   "metadata": {},
   "outputs": [],
   "source": [
    "import pandas as pd\n",
    "import numpy as np\n",
    "import matplotlib.pyplot as plt\n",
    "import scipy.stats as stats\n",
    "from rich import print\n",
    "import seaborn as sns\n",
    "\n",
    "ytd_2425 = pd.read_csv('ees_ytd_data.csv')\n",
    "daily_2425 = pd.read_csv('ees_daily_data.csv')\n",
    "\n",
    "ytd_2324 = pd.read_csv('ees_ytd_data_2324.csv')\n",
    "daily_2324 = pd.read_csv('ees_daily_data_2324.csv')\n",
    "\n",
    "ytd_2223 = pd.read_csv('ees_ytd_data_2223.csv')"
   ]
  },
  {
   "cell_type": "markdown",
   "id": "e074fef0-8174-4398-959c-098d8c4e1400",
   "metadata": {},
   "source": [
    "<br>\n",
    "\n",
    "**Data cleaning**\n",
    "\n",
    "A first glance at the data showed that the data was relatively clean with limited missing values. However, numeric and date conversions were needed. Additionally, some rows represented aggregations of multiple data points and needed to be removed."
   ]
  },
  {
   "cell_type": "code",
   "execution_count": 2,
   "id": "7cdb4526-5f2e-4c71-96c3-131f7ffe3324",
   "metadata": {},
   "outputs": [],
   "source": [
    "#Remove all regional and national level rows\n",
    "\n",
    "ytd_2425 = ytd_2425[~ytd_2425['geographic_level'].isin(['Regional', 'National'])]\n",
    "\n",
    "ytd_2324 = ytd_2324[~ytd_2324['geographic_level'].isin(['Regional', 'National'])]\n",
    "\n",
    "ytd_2223 = ytd_2223[~ytd_2223['geographic_level'].isin(['Regional', 'National'])]"
   ]
  },
  {
   "cell_type": "code",
   "execution_count": 3,
   "id": "66acb47d-36f8-40d4-bb18-cc900b10e56f",
   "metadata": {},
   "outputs": [],
   "source": [
    "# Switch to numeric and clear any remaining non-numeric values\n",
    "# Change dates to datetime format\n",
    "\n",
    "# 24/25 dataset\n",
    "\n",
    "ytd_2425.loc[:, 'num_schools'] = pd.to_numeric(ytd_2425['num_schools'], errors='coerce')\n",
    "ytd_2425 = ytd_2425.dropna(subset=['num_schools'])\n",
    "\n",
    "ytd_2425.loc[:, 'attendance_perc'] = pd.to_numeric(ytd_2425['attendance_perc'], errors='coerce')\n",
    "ytd_2425 = ytd_2425.dropna(subset=['attendance_perc'])\n",
    "\n",
    "ytd_2425.loc[:, 'authorised_absence_perc'] = pd.to_numeric(ytd_2425['authorised_absence_perc'], errors='coerce')\n",
    "ytd_2425 = ytd_2425.dropna(subset=['authorised_absence_perc'])\n",
    "\n",
    "ytd_2425.loc[:, 'unauthorised_absence_perc'] = pd.to_numeric(ytd_2425['unauthorised_absence_perc'], errors='coerce')\n",
    "ytd_2425 = ytd_2425.dropna(subset=['unauthorised_absence_perc'])\n",
    "\n",
    "ytd_2425.loc[:, 'illness_perc'] = pd.to_numeric(ytd_2425['illness_perc'], errors='coerce')\n",
    "ytd_2425 = ytd_2425.dropna(subset=['illness_perc'])\n",
    "\n",
    "ytd_2425.loc[:, 'appointments_perc'] = pd.to_numeric(ytd_2425['appointments_perc'], errors='coerce')\n",
    "ytd_2425 = ytd_2425.dropna(subset=['appointments_perc'])\n",
    "\n",
    "ytd_2425.loc[:, 'unauth_hol_perc'] = pd.to_numeric(ytd_2425['unauth_hol_perc'], errors='coerce')\n",
    "ytd_2425 = ytd_2425.dropna(subset=['unauth_hol_perc'])\n",
    "\n",
    "ytd_2425.loc[:, 'unauth_oth_perc'] = pd.to_numeric(ytd_2425['unauth_oth_perc'], errors='coerce')\n",
    "ytd_2425 = ytd_2425.dropna(subset=['unauth_oth_perc'])\n",
    "\n",
    "ytd_2425.loc[:, 'unauth_late_registers_closed_perc'] = pd.to_numeric(ytd_2425['unauth_late_registers_closed_perc'], errors='coerce')\n",
    "ytd_2425 = ytd_2425.dropna(subset=['unauth_late_registers_closed_perc'])\n",
    "\n",
    "ytd_2425.loc[:, 'auth_excluded_perc'] = pd.to_numeric(ytd_2425['auth_excluded_perc'], errors='coerce')\n",
    "ytd_2425 = ytd_2425.dropna(subset=['auth_excluded_perc'])\n",
    "\n",
    "ytd_2425.loc[:, 'auth_part_time_perc'] = pd.to_numeric(ytd_2425['auth_part_time_perc'], errors='coerce')\n",
    "ytd_2425 = ytd_2425.dropna(subset=['auth_part_time_perc'])\n",
    "\n",
    "daily_2425['attendance_date'] = pd.to_datetime(daily_2425['attendance_date'], format='%d/%m/%Y')\n",
    "\n",
    "daily_2425.loc[:, 'attendance_perc'] = pd.to_numeric(daily_2425['attendance_perc'], errors='coerce')\n",
    "daily_2425 = daily_2425.dropna(subset=['attendance_perc'])\n",
    "\n",
    "daily_2425.loc[:, 'num_schools'] = pd.to_numeric(daily_2425['num_schools'], errors='coerce')\n",
    "daily_2425 = daily_2425.dropna(subset=['num_schools'])\n",
    "\n",
    "\n",
    "# 23/24 dataset\n",
    "\n",
    "ytd_2324.loc[:, 'num_schools'] = pd.to_numeric(ytd_2324['num_schools'], errors='coerce')\n",
    "ytd_2324 = ytd_2324.dropna(subset=['num_schools'])\n",
    "\n",
    "ytd_2324.loc[:, 'attendance_perc'] = pd.to_numeric(ytd_2324['attendance_perc'], errors='coerce')\n",
    "ytd_2324 = ytd_2324.dropna(subset=['attendance_perc'])\n",
    "\n",
    "ytd_2324.loc[:, 'authorised_absence_perc'] = pd.to_numeric(ytd_2324['authorised_absence_perc'], errors='coerce')\n",
    "ytd_2324 = ytd_2324.dropna(subset=['authorised_absence_perc'])\n",
    "\n",
    "ytd_2324.loc[:, 'unauthorised_absence_perc'] = pd.to_numeric(ytd_2324['unauthorised_absence_perc'], errors='coerce')\n",
    "ytd_2324 = ytd_2324.dropna(subset=['unauthorised_absence_perc'])\n",
    "\n",
    "ytd_2324.loc[:, 'illness_perc'] = pd.to_numeric(ytd_2324['illness_perc'], errors='coerce')\n",
    "ytd_2324 = ytd_2324.dropna(subset=['illness_perc'])\n",
    "\n",
    "ytd_2324.loc[:, 'appointments_perc'] = pd.to_numeric(ytd_2324['appointments_perc'], errors='coerce')\n",
    "ytd_2324 = ytd_2324.dropna(subset=['appointments_perc'])\n",
    "\n",
    "ytd_2324.loc[:, 'unauth_hol_perc'] = pd.to_numeric(ytd_2324['unauth_hol_perc'], errors='coerce')\n",
    "ytd_2324 = ytd_2324.dropna(subset=['unauth_hol_perc'])\n",
    "\n",
    "ytd_2324.loc[:, 'unauth_oth_perc'] = pd.to_numeric(ytd_2324['unauth_oth_perc'], errors='coerce')\n",
    "ytd_2324 = ytd_2324.dropna(subset=['unauth_oth_perc'])\n",
    "\n",
    "ytd_2324.loc[:, 'unauth_late_registers_closed_perc'] = pd.to_numeric(ytd_2324['unauth_late_registers_closed_perc'], errors='coerce')\n",
    "ytd_2324 = ytd_2324.dropna(subset=['unauth_late_registers_closed_perc'])\n",
    "\n",
    "ytd_2324.loc[:, 'auth_excluded_perc'] = pd.to_numeric(ytd_2324['auth_excluded_perc'], errors='coerce')\n",
    "ytd_2324 = ytd_2324.dropna(subset=['auth_excluded_perc'])\n",
    "\n",
    "daily_2324['attendance_date'] = pd.to_datetime(daily_2324['attendance_date'], format='%d/%m/%Y')\n",
    "\n",
    "daily_2324.loc[:, 'attendance_perc'] = pd.to_numeric(daily_2324['attendance_perc'], errors='coerce')\n",
    "daily_2324 = daily_2324.dropna(subset=['attendance_perc'])\n",
    "\n",
    "daily_2324.loc[:, 'num_schools'] = pd.to_numeric(daily_2324['num_schools'], errors='coerce')\n",
    "daily_2324 = daily_2324.dropna(subset=['num_schools'])\n",
    "\n",
    "\n",
    "\n",
    "# 22/23 dataset\n",
    "\n",
    "ytd_2223.loc[:, 'num_schools'] = pd.to_numeric(ytd_2223['num_schools'], errors='coerce')\n",
    "ytd_2223 = ytd_2223.dropna(subset=['num_schools'])\n",
    "\n",
    "ytd_2223.loc[:, 'attendance_perc'] = pd.to_numeric(ytd_2223['attendance_perc'], errors='coerce')\n",
    "ytd_2223 = ytd_2223.dropna(subset=['attendance_perc'])\n",
    "\n",
    "ytd_2223.loc[:, 'authorised_absence_perc'] = pd.to_numeric(ytd_2223['authorised_absence_perc'], errors='coerce')\n",
    "ytd_2223 = ytd_2223.dropna(subset=['authorised_absence_perc'])\n",
    "\n",
    "ytd_2223.loc[:, 'unauthorised_absence_perc'] = pd.to_numeric(ytd_2223['unauthorised_absence_perc'], errors='coerce')\n",
    "ytd_2223 = ytd_2223.dropna(subset=['unauthorised_absence_perc'])\n",
    "\n",
    "ytd_2223.loc[:, 'illness_perc'] = pd.to_numeric(ytd_2223['illness_perc'], errors='coerce')\n",
    "ytd_2223 = ytd_2223.dropna(subset=['illness_perc'])\n",
    "\n",
    "ytd_2223.loc[:, 'appointments_perc'] = pd.to_numeric(ytd_2223['appointments_perc'], errors='coerce')\n",
    "ytd_2223 = ytd_2223.dropna(subset=['appointments_perc'])\n",
    "\n",
    "ytd_2223.loc[:, 'unauth_hol_perc'] = pd.to_numeric(ytd_2223['unauth_hol_perc'], errors='coerce')\n",
    "ytd_2223 = ytd_2223.dropna(subset=['unauth_hol_perc'])\n",
    "\n",
    "ytd_2223.loc[:, 'unauth_oth_perc'] = pd.to_numeric(ytd_2223['unauth_oth_perc'], errors='coerce')\n",
    "ytd_2223 = ytd_2223.dropna(subset=['unauth_oth_perc'])\n",
    "\n",
    "ytd_2223.loc[:, 'unauth_late_registers_closed_perc'] = pd.to_numeric(ytd_2223['unauth_late_registers_closed_perc'], errors='coerce')\n",
    "ytd_2223 = ytd_2223.dropna(subset=['unauth_late_registers_closed_perc'])\n",
    "\n",
    "ytd_2223.loc[:, 'auth_excluded_perc'] = pd.to_numeric(ytd_2223['auth_excluded_perc'], errors='coerce')\n",
    "ytd_2223 = ytd_2223.dropna(subset=['auth_excluded_perc'])"
   ]
  },
  {
   "cell_type": "markdown",
   "id": "f56d2cc1-44f0-40a6-ad43-871dd9fca547",
   "metadata": {},
   "source": [
    "<br>\n",
    "\n",
    "**Initial data analysis**\n",
    "\n",
    "As each row represents a different local authority, a weighting is needed to account for the different number of schools each LA is contributing to the average.\n",
    "\n",
    "Whilst the report will focus on 24/25 data, calculations have been made for 23/24 and 22/23 for the sake of comparison and so that context from previous years can be included in the report where appropriate."
   ]
  },
  {
   "cell_type": "code",
   "execution_count": 4,
   "id": "2bb6936e-dfaf-4597-b3ff-6ba305631fd3",
   "metadata": {},
   "outputs": [
    {
     "data": {
      "text/html": [
       "<pre style=\"white-space:pre;overflow-x:auto;line-height:normal;font-family:Menlo,'DejaVu Sans Mono',consolas,'Courier New',monospace\"><span style=\"font-weight: bold\">Attendance measures </span><span style=\"color: #008080; text-decoration-color: #008080; font-weight: bold\">24</span><span style=\"font-weight: bold\">/</span><span style=\"color: #008080; text-decoration-color: #008080; font-weight: bold\">25</span><span style=\"font-weight: bold\">:</span>\n",
       "</pre>\n"
      ],
      "text/plain": [
       "\u001b[1mAttendance measures \u001b[0m\u001b[1;36m24\u001b[0m\u001b[1m/\u001b[0m\u001b[1;36m25\u001b[0m\u001b[1m:\u001b[0m\n"
      ]
     },
     "metadata": {},
     "output_type": "display_data"
    },
    {
     "data": {
      "text/html": [
       "<pre style=\"white-space:pre;overflow-x:auto;line-height:normal;font-family:Menlo,'DejaVu Sans Mono',consolas,'Courier New',monospace\">Weighted mean attendance: <span style=\"color: #008080; text-decoration-color: #008080; font-weight: bold\">94.02</span>%\n",
       "</pre>\n"
      ],
      "text/plain": [
       "Weighted mean attendance: \u001b[1;36m94.02\u001b[0m%\n"
      ]
     },
     "metadata": {},
     "output_type": "display_data"
    },
    {
     "data": {
      "text/html": [
       "<pre style=\"white-space:pre;overflow-x:auto;line-height:normal;font-family:Menlo,'DejaVu Sans Mono',consolas,'Courier New',monospace\">Weighted standard deviation: <span style=\"color: #008080; text-decoration-color: #008080; font-weight: bold\">1.98</span>\n",
       "</pre>\n"
      ],
      "text/plain": [
       "Weighted standard deviation: \u001b[1;36m1.98\u001b[0m\n"
      ]
     },
     "metadata": {},
     "output_type": "display_data"
    },
    {
     "data": {
      "text/html": [
       "<pre style=\"white-space:pre;overflow-x:auto;line-height:normal;font-family:Menlo,'DejaVu Sans Mono',consolas,'Courier New',monospace\">Weighted mean for primary schools: <span style=\"color: #008080; text-decoration-color: #008080; font-weight: bold\">94.86</span>%\n",
       "</pre>\n"
      ],
      "text/plain": [
       "Weighted mean for primary schools: \u001b[1;36m94.86\u001b[0m%\n"
      ]
     },
     "metadata": {},
     "output_type": "display_data"
    },
    {
     "data": {
      "text/html": [
       "<pre style=\"white-space:pre;overflow-x:auto;line-height:normal;font-family:Menlo,'DejaVu Sans Mono',consolas,'Courier New',monospace\">Weighted mean for secondary schools: <span style=\"color: #008080; text-decoration-color: #008080; font-weight: bold\">92.04</span>%\n",
       "</pre>\n"
      ],
      "text/plain": [
       "Weighted mean for secondary schools: \u001b[1;36m92.04\u001b[0m%\n"
      ]
     },
     "metadata": {},
     "output_type": "display_data"
    },
    {
     "data": {
      "text/html": [
       "<pre style=\"white-space:pre;overflow-x:auto;line-height:normal;font-family:Menlo,'DejaVu Sans Mono',consolas,'Courier New',monospace\">Weighted mean for special schools: <span style=\"color: #008080; text-decoration-color: #008080; font-weight: bold\">87.31</span>%\n",
       "</pre>\n"
      ],
      "text/plain": [
       "Weighted mean for special schools: \u001b[1;36m87.31\u001b[0m%\n"
      ]
     },
     "metadata": {},
     "output_type": "display_data"
    },
    {
     "data": {
      "text/html": [
       "<pre style=\"white-space:pre;overflow-x:auto;line-height:normal;font-family:Menlo,'DejaVu Sans Mono',consolas,'Courier New',monospace\">Weighted mean by region:\n",
       "                 region_name  weighted_mean_2425\n",
       "<span style=\"color: #008080; text-decoration-color: #008080; font-weight: bold\">4</span>                North West               <span style=\"color: #008080; text-decoration-color: #008080; font-weight: bold\">94.17</span>\n",
       "<span style=\"color: #008080; text-decoration-color: #008080; font-weight: bold\">0</span>             East Midlands               <span style=\"color: #008080; text-decoration-color: #008080; font-weight: bold\">94.16</span>\n",
       "<span style=\"color: #008080; text-decoration-color: #008080; font-weight: bold\">1</span>           East of England               <span style=\"color: #008080; text-decoration-color: #008080; font-weight: bold\">94.16</span>\n",
       "<span style=\"color: #008080; text-decoration-color: #008080; font-weight: bold\">8</span>  Yorkshire and The Humber               <span style=\"color: #008080; text-decoration-color: #008080; font-weight: bold\">94.03</span>\n",
       "<span style=\"color: #008080; text-decoration-color: #008080; font-weight: bold\">2</span>                    London               <span style=\"color: #008080; text-decoration-color: #008080; font-weight: bold\">93.97</span>\n",
       "<span style=\"color: #008080; text-decoration-color: #008080; font-weight: bold\">5</span>                South East               <span style=\"color: #008080; text-decoration-color: #008080; font-weight: bold\">93.96</span>\n",
       "<span style=\"color: #008080; text-decoration-color: #008080; font-weight: bold\">6</span>                South West               <span style=\"color: #008080; text-decoration-color: #008080; font-weight: bold\">93.96</span>\n",
       "<span style=\"color: #008080; text-decoration-color: #008080; font-weight: bold\">3</span>                North East               <span style=\"color: #008080; text-decoration-color: #008080; font-weight: bold\">93.85</span>\n",
       "<span style=\"color: #008080; text-decoration-color: #008080; font-weight: bold\">7</span>             West Midlands               <span style=\"color: #008080; text-decoration-color: #008080; font-weight: bold\">93.84</span>\n",
       "</pre>\n"
      ],
      "text/plain": [
       "Weighted mean by region:\n",
       "                 region_name  weighted_mean_2425\n",
       "\u001b[1;36m4\u001b[0m                North West               \u001b[1;36m94.17\u001b[0m\n",
       "\u001b[1;36m0\u001b[0m             East Midlands               \u001b[1;36m94.16\u001b[0m\n",
       "\u001b[1;36m1\u001b[0m           East of England               \u001b[1;36m94.16\u001b[0m\n",
       "\u001b[1;36m8\u001b[0m  Yorkshire and The Humber               \u001b[1;36m94.03\u001b[0m\n",
       "\u001b[1;36m2\u001b[0m                    London               \u001b[1;36m93.97\u001b[0m\n",
       "\u001b[1;36m5\u001b[0m                South East               \u001b[1;36m93.96\u001b[0m\n",
       "\u001b[1;36m6\u001b[0m                South West               \u001b[1;36m93.96\u001b[0m\n",
       "\u001b[1;36m3\u001b[0m                North East               \u001b[1;36m93.85\u001b[0m\n",
       "\u001b[1;36m7\u001b[0m             West Midlands               \u001b[1;36m93.84\u001b[0m\n"
      ]
     },
     "metadata": {},
     "output_type": "display_data"
    },
    {
     "data": {
      "text/html": [
       "<pre style=\"white-space:pre;overflow-x:auto;line-height:normal;font-family:Menlo,'DejaVu Sans Mono',consolas,'Courier New',monospace\">\n",
       "\n",
       "\n",
       "<span style=\"font-weight: bold\">Attendance measures </span><span style=\"color: #008080; text-decoration-color: #008080; font-weight: bold\">23</span><span style=\"font-weight: bold\">/</span><span style=\"color: #008080; text-decoration-color: #008080; font-weight: bold\">24</span><span style=\"font-weight: bold\">:</span>\n",
       "</pre>\n"
      ],
      "text/plain": [
       "\n",
       "\n",
       "\n",
       "\u001b[1mAttendance measures \u001b[0m\u001b[1;36m23\u001b[0m\u001b[1m/\u001b[0m\u001b[1;36m24\u001b[0m\u001b[1m:\u001b[0m\n"
      ]
     },
     "metadata": {},
     "output_type": "display_data"
    },
    {
     "data": {
      "text/html": [
       "<pre style=\"white-space:pre;overflow-x:auto;line-height:normal;font-family:Menlo,'DejaVu Sans Mono',consolas,'Courier New',monospace\">Weighted mean attendance: <span style=\"color: #008080; text-decoration-color: #008080; font-weight: bold\">94.04</span>%\n",
       "</pre>\n"
      ],
      "text/plain": [
       "Weighted mean attendance: \u001b[1;36m94.04\u001b[0m%\n"
      ]
     },
     "metadata": {},
     "output_type": "display_data"
    },
    {
     "data": {
      "text/html": [
       "<pre style=\"white-space:pre;overflow-x:auto;line-height:normal;font-family:Menlo,'DejaVu Sans Mono',consolas,'Courier New',monospace\">Weighted standard deviation: <span style=\"color: #008080; text-decoration-color: #008080; font-weight: bold\">1.96</span>\n",
       "</pre>\n"
      ],
      "text/plain": [
       "Weighted standard deviation: \u001b[1;36m1.96\u001b[0m\n"
      ]
     },
     "metadata": {},
     "output_type": "display_data"
    },
    {
     "data": {
      "text/html": [
       "<pre style=\"white-space:pre;overflow-x:auto;line-height:normal;font-family:Menlo,'DejaVu Sans Mono',consolas,'Courier New',monospace\">Weighted mean for primary schools: <span style=\"color: #008080; text-decoration-color: #008080; font-weight: bold\">94.86</span>%\n",
       "</pre>\n"
      ],
      "text/plain": [
       "Weighted mean for primary schools: \u001b[1;36m94.86\u001b[0m%\n"
      ]
     },
     "metadata": {},
     "output_type": "display_data"
    },
    {
     "data": {
      "text/html": [
       "<pre style=\"white-space:pre;overflow-x:auto;line-height:normal;font-family:Menlo,'DejaVu Sans Mono',consolas,'Courier New',monospace\">Weighted mean for secondary schools: <span style=\"color: #008080; text-decoration-color: #008080; font-weight: bold\">91.72</span>%\n",
       "</pre>\n"
      ],
      "text/plain": [
       "Weighted mean for secondary schools: \u001b[1;36m91.72\u001b[0m%\n"
      ]
     },
     "metadata": {},
     "output_type": "display_data"
    },
    {
     "data": {
      "text/html": [
       "<pre style=\"white-space:pre;overflow-x:auto;line-height:normal;font-family:Menlo,'DejaVu Sans Mono',consolas,'Courier New',monospace\">Weighted mean for special schools: <span style=\"color: #008080; text-decoration-color: #008080; font-weight: bold\">87.46</span>%\n",
       "</pre>\n"
      ],
      "text/plain": [
       "Weighted mean for special schools: \u001b[1;36m87.46\u001b[0m%\n"
      ]
     },
     "metadata": {},
     "output_type": "display_data"
    },
    {
     "data": {
      "text/html": [
       "<pre style=\"white-space:pre;overflow-x:auto;line-height:normal;font-family:Menlo,'DejaVu Sans Mono',consolas,'Courier New',monospace\">Weighted mean by region:\n",
       "                 region_name  weighted_mean_2324\n",
       "<span style=\"color: #008080; text-decoration-color: #008080; font-weight: bold\">2</span>                    London               <span style=\"color: #008080; text-decoration-color: #008080; font-weight: bold\">94.22</span>\n",
       "<span style=\"color: #008080; text-decoration-color: #008080; font-weight: bold\">1</span>           East of England               <span style=\"color: #008080; text-decoration-color: #008080; font-weight: bold\">94.21</span>\n",
       "<span style=\"color: #008080; text-decoration-color: #008080; font-weight: bold\">5</span>                South East               <span style=\"color: #008080; text-decoration-color: #008080; font-weight: bold\">94.11</span>\n",
       "<span style=\"color: #008080; text-decoration-color: #008080; font-weight: bold\">0</span>             East Midlands               <span style=\"color: #008080; text-decoration-color: #008080; font-weight: bold\">94.10</span>\n",
       "<span style=\"color: #008080; text-decoration-color: #008080; font-weight: bold\">7</span>             West Midlands               <span style=\"color: #008080; text-decoration-color: #008080; font-weight: bold\">94.01</span>\n",
       "<span style=\"color: #008080; text-decoration-color: #008080; font-weight: bold\">4</span>                North West               <span style=\"color: #008080; text-decoration-color: #008080; font-weight: bold\">94.00</span>\n",
       "<span style=\"color: #008080; text-decoration-color: #008080; font-weight: bold\">6</span>                South West               <span style=\"color: #008080; text-decoration-color: #008080; font-weight: bold\">94.00</span>\n",
       "<span style=\"color: #008080; text-decoration-color: #008080; font-weight: bold\">8</span>  Yorkshire and The Humber               <span style=\"color: #008080; text-decoration-color: #008080; font-weight: bold\">93.92</span>\n",
       "<span style=\"color: #008080; text-decoration-color: #008080; font-weight: bold\">3</span>                North East               <span style=\"color: #008080; text-decoration-color: #008080; font-weight: bold\">93.41</span>\n",
       "</pre>\n"
      ],
      "text/plain": [
       "Weighted mean by region:\n",
       "                 region_name  weighted_mean_2324\n",
       "\u001b[1;36m2\u001b[0m                    London               \u001b[1;36m94.22\u001b[0m\n",
       "\u001b[1;36m1\u001b[0m           East of England               \u001b[1;36m94.21\u001b[0m\n",
       "\u001b[1;36m5\u001b[0m                South East               \u001b[1;36m94.11\u001b[0m\n",
       "\u001b[1;36m0\u001b[0m             East Midlands               \u001b[1;36m94.10\u001b[0m\n",
       "\u001b[1;36m7\u001b[0m             West Midlands               \u001b[1;36m94.01\u001b[0m\n",
       "\u001b[1;36m4\u001b[0m                North West               \u001b[1;36m94.00\u001b[0m\n",
       "\u001b[1;36m6\u001b[0m                South West               \u001b[1;36m94.00\u001b[0m\n",
       "\u001b[1;36m8\u001b[0m  Yorkshire and The Humber               \u001b[1;36m93.92\u001b[0m\n",
       "\u001b[1;36m3\u001b[0m                North East               \u001b[1;36m93.41\u001b[0m\n"
      ]
     },
     "metadata": {},
     "output_type": "display_data"
    },
    {
     "data": {
      "text/html": [
       "<pre style=\"white-space:pre;overflow-x:auto;line-height:normal;font-family:Menlo,'DejaVu Sans Mono',consolas,'Courier New',monospace\">\n",
       "\n",
       "\n",
       "<span style=\"font-weight: bold\">Attendance averages for </span><span style=\"color: #008080; text-decoration-color: #008080; font-weight: bold\">22</span><span style=\"font-weight: bold\">/</span><span style=\"color: #008080; text-decoration-color: #008080; font-weight: bold\">23</span><span style=\"font-weight: bold\">:</span>\n",
       "</pre>\n"
      ],
      "text/plain": [
       "\n",
       "\n",
       "\n",
       "\u001b[1mAttendance averages for \u001b[0m\u001b[1;36m22\u001b[0m\u001b[1m/\u001b[0m\u001b[1;36m23\u001b[0m\u001b[1m:\u001b[0m\n"
      ]
     },
     "metadata": {},
     "output_type": "display_data"
    },
    {
     "data": {
      "text/html": [
       "<pre style=\"white-space:pre;overflow-x:auto;line-height:normal;font-family:Menlo,'DejaVu Sans Mono',consolas,'Courier New',monospace\">Weighted mean attendance: <span style=\"color: #008080; text-decoration-color: #008080; font-weight: bold\">93.33</span>%\n",
       "</pre>\n"
      ],
      "text/plain": [
       "Weighted mean attendance: \u001b[1;36m93.33\u001b[0m%\n"
      ]
     },
     "metadata": {},
     "output_type": "display_data"
    },
    {
     "data": {
      "text/html": [
       "<pre style=\"white-space:pre;overflow-x:auto;line-height:normal;font-family:Menlo,'DejaVu Sans Mono',consolas,'Courier New',monospace\">Weighted standard deviation: <span style=\"color: #008080; text-decoration-color: #008080; font-weight: bold\">1.82</span>\n",
       "</pre>\n"
      ],
      "text/plain": [
       "Weighted standard deviation: \u001b[1;36m1.82\u001b[0m\n"
      ]
     },
     "metadata": {},
     "output_type": "display_data"
    },
    {
     "data": {
      "text/html": [
       "<pre style=\"white-space:pre;overflow-x:auto;line-height:normal;font-family:Menlo,'DejaVu Sans Mono',consolas,'Courier New',monospace\">Weighted mean for primary schools: <span style=\"color: #008080; text-decoration-color: #008080; font-weight: bold\">94.05</span>%\n",
       "</pre>\n"
      ],
      "text/plain": [
       "Weighted mean for primary schools: \u001b[1;36m94.05\u001b[0m%\n"
      ]
     },
     "metadata": {},
     "output_type": "display_data"
    },
    {
     "data": {
      "text/html": [
       "<pre style=\"white-space:pre;overflow-x:auto;line-height:normal;font-family:Menlo,'DejaVu Sans Mono',consolas,'Courier New',monospace\">Weighted mean for secondary schools: <span style=\"color: #008080; text-decoration-color: #008080; font-weight: bold\">91.26</span>%\n",
       "</pre>\n"
      ],
      "text/plain": [
       "Weighted mean for secondary schools: \u001b[1;36m91.26\u001b[0m%\n"
      ]
     },
     "metadata": {},
     "output_type": "display_data"
    },
    {
     "data": {
      "text/html": [
       "<pre style=\"white-space:pre;overflow-x:auto;line-height:normal;font-family:Menlo,'DejaVu Sans Mono',consolas,'Courier New',monospace\">Weighted mean by region:\n",
       "                 region_name  weighted_mean_2223\n",
       "<span style=\"color: #008080; text-decoration-color: #008080; font-weight: bold\">4</span>                North West               <span style=\"color: #008080; text-decoration-color: #008080; font-weight: bold\">93.53</span>\n",
       "<span style=\"color: #008080; text-decoration-color: #008080; font-weight: bold\">0</span>             East Midlands               <span style=\"color: #008080; text-decoration-color: #008080; font-weight: bold\">93.46</span>\n",
       "<span style=\"color: #008080; text-decoration-color: #008080; font-weight: bold\">1</span>           East of England               <span style=\"color: #008080; text-decoration-color: #008080; font-weight: bold\">93.33</span>\n",
       "<span style=\"color: #008080; text-decoration-color: #008080; font-weight: bold\">5</span>                South East               <span style=\"color: #008080; text-decoration-color: #008080; font-weight: bold\">93.30</span>\n",
       "<span style=\"color: #008080; text-decoration-color: #008080; font-weight: bold\">6</span>                South West               <span style=\"color: #008080; text-decoration-color: #008080; font-weight: bold\">93.28</span>\n",
       "<span style=\"color: #008080; text-decoration-color: #008080; font-weight: bold\">2</span>                    London               <span style=\"color: #008080; text-decoration-color: #008080; font-weight: bold\">93.27</span>\n",
       "<span style=\"color: #008080; text-decoration-color: #008080; font-weight: bold\">7</span>             West Midlands               <span style=\"color: #008080; text-decoration-color: #008080; font-weight: bold\">93.26</span>\n",
       "<span style=\"color: #008080; text-decoration-color: #008080; font-weight: bold\">3</span>                North East               <span style=\"color: #008080; text-decoration-color: #008080; font-weight: bold\">93.23</span>\n",
       "<span style=\"color: #008080; text-decoration-color: #008080; font-weight: bold\">8</span>  Yorkshire and The Humber               <span style=\"color: #008080; text-decoration-color: #008080; font-weight: bold\">93.22</span>\n",
       "</pre>\n"
      ],
      "text/plain": [
       "Weighted mean by region:\n",
       "                 region_name  weighted_mean_2223\n",
       "\u001b[1;36m4\u001b[0m                North West               \u001b[1;36m93.53\u001b[0m\n",
       "\u001b[1;36m0\u001b[0m             East Midlands               \u001b[1;36m93.46\u001b[0m\n",
       "\u001b[1;36m1\u001b[0m           East of England               \u001b[1;36m93.33\u001b[0m\n",
       "\u001b[1;36m5\u001b[0m                South East               \u001b[1;36m93.30\u001b[0m\n",
       "\u001b[1;36m6\u001b[0m                South West               \u001b[1;36m93.28\u001b[0m\n",
       "\u001b[1;36m2\u001b[0m                    London               \u001b[1;36m93.27\u001b[0m\n",
       "\u001b[1;36m7\u001b[0m             West Midlands               \u001b[1;36m93.26\u001b[0m\n",
       "\u001b[1;36m3\u001b[0m                North East               \u001b[1;36m93.23\u001b[0m\n",
       "\u001b[1;36m8\u001b[0m  Yorkshire and The Humber               \u001b[1;36m93.22\u001b[0m\n"
      ]
     },
     "metadata": {},
     "output_type": "display_data"
    }
   ],
   "source": [
    "print(\"[bold]Attendance measures 24/25:[/bold]\")\n",
    "\n",
    "#Weighted mean 24/25\n",
    "weighted_mean_2425 = (ytd_2425['attendance_perc'] * ytd_2425['num_schools']).sum() / ytd_2425['num_schools'].sum()\n",
    "print(f\"Weighted mean attendance: {weighted_mean_2425:.2f}%\")\n",
    "\n",
    "#Weighted standard deviation 24/25\n",
    "weighted_std_dev_2425 = ((ytd_2425['num_schools'] * (ytd_2425['attendance_perc'] - ((ytd_2425['attendance_perc'] * ytd_2425['num_schools']).sum() / ytd_2425['num_schools'].sum())) ** 2).sum() / ytd_2425['num_schools'].sum()) ** 0.5\n",
    "print(f\"Weighted standard deviation: {weighted_std_dev_2425:.2f}\")\n",
    "\n",
    "#Weighted mean for primary schools 24/25\n",
    "primary_schools_2425 = ytd_2425[ytd_2425['education_phase'] == 'Primary']\n",
    "weighted_mean_primary_2425 = (primary_schools_2425['attendance_perc'] * primary_schools_2425['num_schools']).sum() / primary_schools_2425['num_schools'].sum()\n",
    "print(f\"Weighted mean for primary schools: {weighted_mean_primary_2425:.2f}%\")\n",
    "\n",
    "#Weighted mean for secondary schools 24/25\n",
    "secondary_schools_2425 = ytd_2425[ytd_2425['education_phase'] == 'Secondary']\n",
    "weighted_mean_secondary_2425 = (secondary_schools_2425['attendance_perc'] * secondary_schools_2425['num_schools']).sum() / secondary_schools_2425['num_schools'].sum()\n",
    "print(f\"Weighted mean for secondary schools: {weighted_mean_secondary_2425:.2f}%\")\n",
    "\n",
    "#Weighted mean for special schools 24/25\n",
    "special_schools_2425 = ytd_2425[ytd_2425['education_phase'] == 'Special']\n",
    "weighted_mean_special_2425 = (special_schools_2425['attendance_perc'] * special_schools_2425['num_schools']).sum() / special_schools_2425['num_schools'].sum()\n",
    "print(f\"Weighted mean for special schools: {weighted_mean_special_2425:.2f}%\")\n",
    "\n",
    "#Weighted mean by region 24/25\n",
    "weighted_mean_by_region_2425 = (\n",
    "    ytd_2425.groupby('region_name', as_index=False)\n",
    "    .agg(weighted_mean_2425=('attendance_perc', lambda x: (x * ytd_2425.loc[x.index, 'num_schools']).sum() / ytd_2425.loc[x.index, 'num_schools'].sum()))\n",
    ")\n",
    "\n",
    "weighted_mean_by_region_2425['weighted_mean_2425'] = weighted_mean_by_region_2425['weighted_mean_2425'].round(2)\n",
    "\n",
    "weighted_mean_by_region_2425 = weighted_mean_by_region_2425.sort_values(by='weighted_mean_2425', ascending=False)\n",
    "\n",
    "print(\"Weighted mean by region:\\n\", weighted_mean_by_region_2425)\n",
    "\n",
    "\n",
    "\n",
    "print(\"\\n\\n\\n[bold]Attendance measures 23/24:[/bold]\")\n",
    "\n",
    "#Weighted mean 23/24\n",
    "weighted_mean_2324 = (ytd_2324['attendance_perc'] * ytd_2324['num_schools']).sum() / ytd_2324['num_schools'].sum()\n",
    "print(f\"Weighted mean attendance: {weighted_mean_2324:.2f}%\")\n",
    "\n",
    "#Weighted standard deviation 23/24\n",
    "weighted_std_dev_2324 = ((ytd_2324['num_schools'] * (ytd_2324['attendance_perc'] - ((ytd_2324['attendance_perc'] * ytd_2324['num_schools']).sum() / ytd_2324['num_schools'].sum())) ** 2).sum() / ytd_2324['num_schools'].sum()) ** 0.5\n",
    "print(f\"Weighted standard deviation: {weighted_std_dev_2324:.2f}\")\n",
    "\n",
    "#Weighted mean for primary schools 23/24\n",
    "primary_schools_2324 = ytd_2324[ytd_2324['school_type'] == 'Primary']\n",
    "weighted_mean_primary_2324 = (primary_schools_2324['attendance_perc'] * primary_schools_2324['num_schools']).sum() / primary_schools_2324['num_schools'].sum()\n",
    "print(f\"Weighted mean for primary schools: {weighted_mean_primary_2324:.2f}%\")\n",
    "\n",
    "#Weighted mean for secondary schools 23/24\n",
    "secondary_schools_2324 = ytd_2324[ytd_2324['school_type'] == 'Secondary']\n",
    "weighted_mean_secondary_2324 = (secondary_schools_2324['attendance_perc'] * secondary_schools_2324['num_schools']).sum() / secondary_schools_2324['num_schools'].sum()\n",
    "print(f\"Weighted mean for secondary schools: {weighted_mean_secondary_2324:.2f}%\")\n",
    "\n",
    "#Weighted mean for special schools 23/24\n",
    "special_schools_2324 = ytd_2324[ytd_2324['school_type'] == 'Special']\n",
    "weighted_mean_special_2324 = (special_schools_2324['attendance_perc'] * special_schools_2324['num_schools']).sum() / special_schools_2324['num_schools'].sum()\n",
    "print(f\"Weighted mean for special schools: {weighted_mean_special_2324:.2f}%\")\n",
    "\n",
    "#Weighted mean by region 23/24\n",
    "weighted_mean_by_region_2324 = (\n",
    "    ytd_2324.groupby('region_name', as_index=False)\n",
    "    .agg(weighted_mean_2324=('attendance_perc', lambda x: (x * ytd_2324.loc[x.index, 'num_schools']).sum() / ytd_2324.loc[x.index, 'num_schools'].sum()))\n",
    ")\n",
    "\n",
    "weighted_mean_by_region_2324['weighted_mean_2324'] = weighted_mean_by_region_2324['weighted_mean_2324'].round(2)\n",
    "\n",
    "weighted_mean_by_region_2324 = weighted_mean_by_region_2324.sort_values(by='weighted_mean_2324', ascending=False)\n",
    "\n",
    "print(\"Weighted mean by region:\\n\", weighted_mean_by_region_2324)\n",
    "\n",
    "\n",
    "\n",
    "print(\"\\n\\n\\n[bold]Attendance averages for 22/23:[/bold]\")\n",
    "\n",
    "#Weighted mean 22/23\n",
    "weighted_mean_2223 = (ytd_2223['attendance_perc'] * ytd_2223['num_schools']).sum() / ytd_2223['num_schools'].sum()\n",
    "print(f\"Weighted mean attendance: {weighted_mean_2223:.2f}%\")\n",
    "\n",
    "#Weighted standard deviation 22/23\n",
    "weighted_std_dev_2223 = ((ytd_2223['num_schools'] * (ytd_2223['attendance_perc'] - ((ytd_2223['attendance_perc'] * ytd_2223['num_schools']).sum() / ytd_2223['num_schools'].sum())) ** 2).sum() / ytd_2223['num_schools'].sum()) ** 0.5\n",
    "print(f\"Weighted standard deviation: {weighted_std_dev_2223:.2f}\")\n",
    "\n",
    "#Weighted mean for primary schools 22/23\n",
    "primary_schools_2223 = ytd_2223[ytd_2223['school_type'] == 'Primary']\n",
    "weighted_mean_primary_2223 = (primary_schools_2223['attendance_perc'] * primary_schools_2223['num_schools']).sum() / primary_schools_2223['num_schools'].sum()\n",
    "print(f\"Weighted mean for primary schools: {weighted_mean_primary_2223:.2f}%\")\n",
    "\n",
    "#Weighted mean for secondary schools 22/23\n",
    "secondary_schools_2223 = ytd_2223[ytd_2223['school_type'] == 'Secondary']\n",
    "weighted_mean_secondary_2223 = (secondary_schools_2223['attendance_perc'] * secondary_schools_2223['num_schools']).sum() / secondary_schools_2223['num_schools'].sum()\n",
    "print(f\"Weighted mean for secondary schools: {weighted_mean_secondary_2223:.2f}%\")\n",
    "\n",
    "#Weighted mean by region 22/23\n",
    "weighted_mean_by_region_2223 = (\n",
    "    ytd_2223.groupby('region_name', as_index=False)\n",
    "    .agg(weighted_mean_2223=('attendance_perc', lambda x: (x * ytd_2223.loc[x.index, 'num_schools']).sum() / ytd_2223.loc[x.index, 'num_schools'].sum()))\n",
    ")\n",
    "\n",
    "weighted_mean_by_region_2223['weighted_mean_2223'] = weighted_mean_by_region_2223['weighted_mean_2223'].round(2)\n",
    "\n",
    "weighted_mean_by_region_2223 = weighted_mean_by_region_2223.sort_values(by='weighted_mean_2223', ascending=False)\n",
    "\n",
    "print(\"Weighted mean by region:\\n\", weighted_mean_by_region_2223)"
   ]
  },
  {
   "cell_type": "markdown",
   "id": "2f70b1a8-1e05-4d48-8526-b09757d6f974",
   "metadata": {},
   "source": [
    "<br><br>\n",
    "\n",
    "**Further data analysis**\n",
    "\n",
    "A deeper dive into the reasons for absence. Once again, whilst 24/25 data will be the focus, calculations for the previous two years have also been produced for comparison. Note: Absence due to adapted timetables was not measured prior to 24/25. "
   ]
  },
  {
   "cell_type": "code",
   "execution_count": 5,
   "id": "c3ed2144-ff59-4b1e-a640-da5c8fcc3ddb",
   "metadata": {},
   "outputs": [
    {
     "data": {
      "text/html": [
       "<pre style=\"white-space:pre;overflow-x:auto;line-height:normal;font-family:Menlo,'DejaVu Sans Mono',consolas,'Courier New',monospace\"><span style=\"font-weight: bold\">Analysis of reasons for absence </span><span style=\"color: #008080; text-decoration-color: #008080; font-weight: bold\">24</span><span style=\"font-weight: bold\">/</span><span style=\"color: #008080; text-decoration-color: #008080; font-weight: bold\">25</span><span style=\"font-weight: bold\">:</span>\n",
       "</pre>\n"
      ],
      "text/plain": [
       "\u001b[1mAnalysis of reasons for absence \u001b[0m\u001b[1;36m24\u001b[0m\u001b[1m/\u001b[0m\u001b[1;36m25\u001b[0m\u001b[1m:\u001b[0m\n"
      ]
     },
     "metadata": {},
     "output_type": "display_data"
    },
    {
     "data": {
      "text/html": [
       "<pre style=\"white-space:pre;overflow-x:auto;line-height:normal;font-family:Menlo,'DejaVu Sans Mono',consolas,'Courier New',monospace\">\n",
       "Weighted mean authorised absence: <span style=\"color: #008080; text-decoration-color: #008080; font-weight: bold\">4.28</span>%\n",
       "</pre>\n"
      ],
      "text/plain": [
       "\n",
       "Weighted mean authorised absence: \u001b[1;36m4.28\u001b[0m%\n"
      ]
     },
     "metadata": {},
     "output_type": "display_data"
    },
    {
     "data": {
      "text/html": [
       "<pre style=\"white-space:pre;overflow-x:auto;line-height:normal;font-family:Menlo,'DejaVu Sans Mono',consolas,'Courier New',monospace\">\n",
       " -Weighted mean illness percentage: <span style=\"color: #008080; text-decoration-color: #008080; font-weight: bold\">3.27</span>%\n",
       "</pre>\n"
      ],
      "text/plain": [
       "\n",
       " -Weighted mean illness percentage: \u001b[1;36m3.27\u001b[0m%\n"
      ]
     },
     "metadata": {},
     "output_type": "display_data"
    },
    {
     "data": {
      "text/html": [
       "<pre style=\"white-space:pre;overflow-x:auto;line-height:normal;font-family:Menlo,'DejaVu Sans Mono',consolas,'Courier New',monospace\">\n",
       " -Weighted mean appointments percentage: <span style=\"color: #008080; text-decoration-color: #008080; font-weight: bold\">0.31</span>%\n",
       "</pre>\n"
      ],
      "text/plain": [
       "\n",
       " -Weighted mean appointments percentage: \u001b[1;36m0.31\u001b[0m%\n"
      ]
     },
     "metadata": {},
     "output_type": "display_data"
    },
    {
     "data": {
      "text/html": [
       "<pre style=\"white-space:pre;overflow-x:auto;line-height:normal;font-family:Menlo,'DejaVu Sans Mono',consolas,'Courier New',monospace\"> -Weighted mean exclusions percentage: <span style=\"color: #008080; text-decoration-color: #008080; font-weight: bold\">0.08</span>%\n",
       "</pre>\n"
      ],
      "text/plain": [
       " -Weighted mean exclusions percentage: \u001b[1;36m0.08\u001b[0m%\n"
      ]
     },
     "metadata": {},
     "output_type": "display_data"
    },
    {
     "data": {
      "text/html": [
       "<pre style=\"white-space:pre;overflow-x:auto;line-height:normal;font-family:Menlo,'DejaVu Sans Mono',consolas,'Courier New',monospace\"> -Weighted mean adapted timetables percentage: <span style=\"color: #008080; text-decoration-color: #008080; font-weight: bold\">0.19</span>%\n",
       "</pre>\n"
      ],
      "text/plain": [
       " -Weighted mean adapted timetables percentage: \u001b[1;36m0.19\u001b[0m%\n"
      ]
     },
     "metadata": {},
     "output_type": "display_data"
    },
    {
     "data": {
      "text/html": [
       "<pre style=\"white-space:pre;overflow-x:auto;line-height:normal;font-family:Menlo,'DejaVu Sans Mono',consolas,'Courier New',monospace\">\n",
       "\n",
       "Weighted mean unauthorised absence: <span style=\"color: #008080; text-decoration-color: #008080; font-weight: bold\">1.69</span>%\n",
       "</pre>\n"
      ],
      "text/plain": [
       "\n",
       "\n",
       "Weighted mean unauthorised absence: \u001b[1;36m1.69\u001b[0m%\n"
      ]
     },
     "metadata": {},
     "output_type": "display_data"
    },
    {
     "data": {
      "text/html": [
       "<pre style=\"white-space:pre;overflow-x:auto;line-height:normal;font-family:Menlo,'DejaVu Sans Mono',consolas,'Courier New',monospace\"> -Weighted mean holidays percentage: <span style=\"color: #008080; text-decoration-color: #008080; font-weight: bold\">0.48</span>%\n",
       "</pre>\n"
      ],
      "text/plain": [
       " -Weighted mean holidays percentage: \u001b[1;36m0.48\u001b[0m%\n"
      ]
     },
     "metadata": {},
     "output_type": "display_data"
    },
    {
     "data": {
      "text/html": [
       "<pre style=\"white-space:pre;overflow-x:auto;line-height:normal;font-family:Menlo,'DejaVu Sans Mono',consolas,'Courier New',monospace\"> -Weighted mean late percentage: <span style=\"color: #008080; text-decoration-color: #008080; font-weight: bold\">0.18</span>%\n",
       "</pre>\n"
      ],
      "text/plain": [
       " -Weighted mean late percentage: \u001b[1;36m0.18\u001b[0m%\n"
      ]
     },
     "metadata": {},
     "output_type": "display_data"
    },
    {
     "data": {
      "text/html": [
       "<pre style=\"white-space:pre;overflow-x:auto;line-height:normal;font-family:Menlo,'DejaVu Sans Mono',consolas,'Courier New',monospace\"> -Weighted mean other unauthorised percentage: <span style=\"color: #008080; text-decoration-color: #008080; font-weight: bold\">0.95</span>%\n",
       "</pre>\n"
      ],
      "text/plain": [
       " -Weighted mean other unauthorised percentage: \u001b[1;36m0.95\u001b[0m%\n"
      ]
     },
     "metadata": {},
     "output_type": "display_data"
    },
    {
     "data": {
      "text/html": [
       "<pre style=\"white-space:pre;overflow-x:auto;line-height:normal;font-family:Menlo,'DejaVu Sans Mono',consolas,'Courier New',monospace\">\n",
       "\n",
       "Weighted mean unauthorised absence by region:\n",
       "                 region_name  weighted_mean_unauth_2425\n",
       "<span style=\"color: #008080; text-decoration-color: #008080; font-weight: bold\">3</span>                North East                       <span style=\"color: #008080; text-decoration-color: #008080; font-weight: bold\">2.05</span>\n",
       "<span style=\"color: #008080; text-decoration-color: #008080; font-weight: bold\">8</span>  Yorkshire and The Humber                       <span style=\"color: #008080; text-decoration-color: #008080; font-weight: bold\">2.01</span>\n",
       "<span style=\"color: #008080; text-decoration-color: #008080; font-weight: bold\">2</span>                    London                       <span style=\"color: #008080; text-decoration-color: #008080; font-weight: bold\">1.84</span>\n",
       "<span style=\"color: #008080; text-decoration-color: #008080; font-weight: bold\">4</span>                North West                       <span style=\"color: #008080; text-decoration-color: #008080; font-weight: bold\">1.83</span>\n",
       "<span style=\"color: #008080; text-decoration-color: #008080; font-weight: bold\">7</span>             West Midlands                       <span style=\"color: #008080; text-decoration-color: #008080; font-weight: bold\">1.75</span>\n",
       "<span style=\"color: #008080; text-decoration-color: #008080; font-weight: bold\">0</span>             East Midlands                       <span style=\"color: #008080; text-decoration-color: #008080; font-weight: bold\">1.57</span>\n",
       "<span style=\"color: #008080; text-decoration-color: #008080; font-weight: bold\">5</span>                South East                       <span style=\"color: #008080; text-decoration-color: #008080; font-weight: bold\">1.51</span>\n",
       "<span style=\"color: #008080; text-decoration-color: #008080; font-weight: bold\">6</span>                South West                       <span style=\"color: #008080; text-decoration-color: #008080; font-weight: bold\">1.48</span>\n",
       "<span style=\"color: #008080; text-decoration-color: #008080; font-weight: bold\">1</span>           East of England                       <span style=\"color: #008080; text-decoration-color: #008080; font-weight: bold\">1.45</span>\n",
       "</pre>\n"
      ],
      "text/plain": [
       "\n",
       "\n",
       "Weighted mean unauthorised absence by region:\n",
       "                 region_name  weighted_mean_unauth_2425\n",
       "\u001b[1;36m3\u001b[0m                North East                       \u001b[1;36m2.05\u001b[0m\n",
       "\u001b[1;36m8\u001b[0m  Yorkshire and The Humber                       \u001b[1;36m2.01\u001b[0m\n",
       "\u001b[1;36m2\u001b[0m                    London                       \u001b[1;36m1.84\u001b[0m\n",
       "\u001b[1;36m4\u001b[0m                North West                       \u001b[1;36m1.83\u001b[0m\n",
       "\u001b[1;36m7\u001b[0m             West Midlands                       \u001b[1;36m1.75\u001b[0m\n",
       "\u001b[1;36m0\u001b[0m             East Midlands                       \u001b[1;36m1.57\u001b[0m\n",
       "\u001b[1;36m5\u001b[0m                South East                       \u001b[1;36m1.51\u001b[0m\n",
       "\u001b[1;36m6\u001b[0m                South West                       \u001b[1;36m1.48\u001b[0m\n",
       "\u001b[1;36m1\u001b[0m           East of England                       \u001b[1;36m1.45\u001b[0m\n"
      ]
     },
     "metadata": {},
     "output_type": "display_data"
    },
    {
     "data": {
      "text/html": [
       "<pre style=\"white-space:pre;overflow-x:auto;line-height:normal;font-family:Menlo,'DejaVu Sans Mono',consolas,'Courier New',monospace\">\n",
       "\n",
       "\n",
       "<span style=\"font-weight: bold\">Analysis of reasons for absence </span><span style=\"color: #008080; text-decoration-color: #008080; font-weight: bold\">23</span><span style=\"font-weight: bold\">/</span><span style=\"color: #008080; text-decoration-color: #008080; font-weight: bold\">24</span><span style=\"font-weight: bold\">:</span>\n",
       "</pre>\n"
      ],
      "text/plain": [
       "\n",
       "\n",
       "\n",
       "\u001b[1mAnalysis of reasons for absence \u001b[0m\u001b[1;36m23\u001b[0m\u001b[1m/\u001b[0m\u001b[1;36m24\u001b[0m\u001b[1m:\u001b[0m\n"
      ]
     },
     "metadata": {},
     "output_type": "display_data"
    },
    {
     "data": {
      "text/html": [
       "<pre style=\"white-space:pre;overflow-x:auto;line-height:normal;font-family:Menlo,'DejaVu Sans Mono',consolas,'Courier New',monospace\">\n",
       "Weighted mean authorised absence: <span style=\"color: #008080; text-decoration-color: #008080; font-weight: bold\">4.25</span>%\n",
       "</pre>\n"
      ],
      "text/plain": [
       "\n",
       "Weighted mean authorised absence: \u001b[1;36m4.25\u001b[0m%\n"
      ]
     },
     "metadata": {},
     "output_type": "display_data"
    },
    {
     "data": {
      "text/html": [
       "<pre style=\"white-space:pre;overflow-x:auto;line-height:normal;font-family:Menlo,'DejaVu Sans Mono',consolas,'Courier New',monospace\">\n",
       " -Weighted mean illness percentage: <span style=\"color: #008080; text-decoration-color: #008080; font-weight: bold\">3.31</span>%\n",
       "</pre>\n"
      ],
      "text/plain": [
       "\n",
       " -Weighted mean illness percentage: \u001b[1;36m3.31\u001b[0m%\n"
      ]
     },
     "metadata": {},
     "output_type": "display_data"
    },
    {
     "data": {
      "text/html": [
       "<pre style=\"white-space:pre;overflow-x:auto;line-height:normal;font-family:Menlo,'DejaVu Sans Mono',consolas,'Courier New',monospace\">\n",
       " -Weighted mean appointments percentage: <span style=\"color: #008080; text-decoration-color: #008080; font-weight: bold\">0.29</span>%\n",
       "</pre>\n"
      ],
      "text/plain": [
       "\n",
       " -Weighted mean appointments percentage: \u001b[1;36m0.29\u001b[0m%\n"
      ]
     },
     "metadata": {},
     "output_type": "display_data"
    },
    {
     "data": {
      "text/html": [
       "<pre style=\"white-space:pre;overflow-x:auto;line-height:normal;font-family:Menlo,'DejaVu Sans Mono',consolas,'Courier New',monospace\"> -Weighted mean exclusions percentage: <span style=\"color: #008080; text-decoration-color: #008080; font-weight: bold\">0.08</span>%\n",
       "</pre>\n"
      ],
      "text/plain": [
       " -Weighted mean exclusions percentage: \u001b[1;36m0.08\u001b[0m%\n"
      ]
     },
     "metadata": {},
     "output_type": "display_data"
    },
    {
     "data": {
      "text/html": [
       "<pre style=\"white-space:pre;overflow-x:auto;line-height:normal;font-family:Menlo,'DejaVu Sans Mono',consolas,'Courier New',monospace\">\n",
       "\n",
       "Weighted mean unauthorised absence: <span style=\"color: #008080; text-decoration-color: #008080; font-weight: bold\">1.71</span>%\n",
       "</pre>\n"
      ],
      "text/plain": [
       "\n",
       "\n",
       "Weighted mean unauthorised absence: \u001b[1;36m1.71\u001b[0m%\n"
      ]
     },
     "metadata": {},
     "output_type": "display_data"
    },
    {
     "data": {
      "text/html": [
       "<pre style=\"white-space:pre;overflow-x:auto;line-height:normal;font-family:Menlo,'DejaVu Sans Mono',consolas,'Courier New',monospace\"> -Weighted mean holidays percentage: <span style=\"color: #008080; text-decoration-color: #008080; font-weight: bold\">0.48</span>%\n",
       "</pre>\n"
      ],
      "text/plain": [
       " -Weighted mean holidays percentage: \u001b[1;36m0.48\u001b[0m%\n"
      ]
     },
     "metadata": {},
     "output_type": "display_data"
    },
    {
     "data": {
      "text/html": [
       "<pre style=\"white-space:pre;overflow-x:auto;line-height:normal;font-family:Menlo,'DejaVu Sans Mono',consolas,'Courier New',monospace\"> -Weighted mean late percentage: <span style=\"color: #008080; text-decoration-color: #008080; font-weight: bold\">0.15</span>%\n",
       "</pre>\n"
      ],
      "text/plain": [
       " -Weighted mean late percentage: \u001b[1;36m0.15\u001b[0m%\n"
      ]
     },
     "metadata": {},
     "output_type": "display_data"
    },
    {
     "data": {
      "text/html": [
       "<pre style=\"white-space:pre;overflow-x:auto;line-height:normal;font-family:Menlo,'DejaVu Sans Mono',consolas,'Courier New',monospace\"> -Weighted mean other unauthorised percentage: <span style=\"color: #008080; text-decoration-color: #008080; font-weight: bold\">0.98</span>%\n",
       "</pre>\n"
      ],
      "text/plain": [
       " -Weighted mean other unauthorised percentage: \u001b[1;36m0.98\u001b[0m%\n"
      ]
     },
     "metadata": {},
     "output_type": "display_data"
    },
    {
     "data": {
      "text/html": [
       "<pre style=\"white-space:pre;overflow-x:auto;line-height:normal;font-family:Menlo,'DejaVu Sans Mono',consolas,'Courier New',monospace\">\n",
       "\n",
       "Weighted mean unauthorised absence by region:\n",
       "                 region_name  weighted_mean_unauth_2324\n",
       "<span style=\"color: #008080; text-decoration-color: #008080; font-weight: bold\">3</span>                North East                       <span style=\"color: #008080; text-decoration-color: #008080; font-weight: bold\">2.15</span>\n",
       "<span style=\"color: #008080; text-decoration-color: #008080; font-weight: bold\">8</span>  Yorkshire and The Humber                       <span style=\"color: #008080; text-decoration-color: #008080; font-weight: bold\">2.08</span>\n",
       "<span style=\"color: #008080; text-decoration-color: #008080; font-weight: bold\">4</span>                North West                       <span style=\"color: #008080; text-decoration-color: #008080; font-weight: bold\">1.84</span>\n",
       "<span style=\"color: #008080; text-decoration-color: #008080; font-weight: bold\">7</span>             West Midlands                       <span style=\"color: #008080; text-decoration-color: #008080; font-weight: bold\">1.76</span>\n",
       "<span style=\"color: #008080; text-decoration-color: #008080; font-weight: bold\">2</span>                    London                       <span style=\"color: #008080; text-decoration-color: #008080; font-weight: bold\">1.75</span>\n",
       "<span style=\"color: #008080; text-decoration-color: #008080; font-weight: bold\">0</span>             East Midlands                       <span style=\"color: #008080; text-decoration-color: #008080; font-weight: bold\">1.62</span>\n",
       "<span style=\"color: #008080; text-decoration-color: #008080; font-weight: bold\">6</span>                South West                       <span style=\"color: #008080; text-decoration-color: #008080; font-weight: bold\">1.53</span>\n",
       "<span style=\"color: #008080; text-decoration-color: #008080; font-weight: bold\">1</span>           East of England                       <span style=\"color: #008080; text-decoration-color: #008080; font-weight: bold\">1.48</span>\n",
       "<span style=\"color: #008080; text-decoration-color: #008080; font-weight: bold\">5</span>                South East                       <span style=\"color: #008080; text-decoration-color: #008080; font-weight: bold\">1.47</span>\n",
       "</pre>\n"
      ],
      "text/plain": [
       "\n",
       "\n",
       "Weighted mean unauthorised absence by region:\n",
       "                 region_name  weighted_mean_unauth_2324\n",
       "\u001b[1;36m3\u001b[0m                North East                       \u001b[1;36m2.15\u001b[0m\n",
       "\u001b[1;36m8\u001b[0m  Yorkshire and The Humber                       \u001b[1;36m2.08\u001b[0m\n",
       "\u001b[1;36m4\u001b[0m                North West                       \u001b[1;36m1.84\u001b[0m\n",
       "\u001b[1;36m7\u001b[0m             West Midlands                       \u001b[1;36m1.76\u001b[0m\n",
       "\u001b[1;36m2\u001b[0m                    London                       \u001b[1;36m1.75\u001b[0m\n",
       "\u001b[1;36m0\u001b[0m             East Midlands                       \u001b[1;36m1.62\u001b[0m\n",
       "\u001b[1;36m6\u001b[0m                South West                       \u001b[1;36m1.53\u001b[0m\n",
       "\u001b[1;36m1\u001b[0m           East of England                       \u001b[1;36m1.48\u001b[0m\n",
       "\u001b[1;36m5\u001b[0m                South East                       \u001b[1;36m1.47\u001b[0m\n"
      ]
     },
     "metadata": {},
     "output_type": "display_data"
    },
    {
     "data": {
      "text/html": [
       "<pre style=\"white-space:pre;overflow-x:auto;line-height:normal;font-family:Menlo,'DejaVu Sans Mono',consolas,'Courier New',monospace\">\n",
       "\n",
       "\n",
       "<span style=\"font-weight: bold\">Analysis of reasons for absence </span><span style=\"color: #008080; text-decoration-color: #008080; font-weight: bold\">24</span><span style=\"font-weight: bold\">/</span><span style=\"color: #008080; text-decoration-color: #008080; font-weight: bold\">25</span><span style=\"font-weight: bold\">:</span>\n",
       "</pre>\n"
      ],
      "text/plain": [
       "\n",
       "\n",
       "\n",
       "\u001b[1mAnalysis of reasons for absence \u001b[0m\u001b[1;36m24\u001b[0m\u001b[1m/\u001b[0m\u001b[1;36m25\u001b[0m\u001b[1m:\u001b[0m\n"
      ]
     },
     "metadata": {},
     "output_type": "display_data"
    },
    {
     "data": {
      "text/html": [
       "<pre style=\"white-space:pre;overflow-x:auto;line-height:normal;font-family:Menlo,'DejaVu Sans Mono',consolas,'Courier New',monospace\">\n",
       "Weighted mean authorised absence: <span style=\"color: #008080; text-decoration-color: #008080; font-weight: bold\">5.04</span>%\n",
       "</pre>\n"
      ],
      "text/plain": [
       "\n",
       "Weighted mean authorised absence: \u001b[1;36m5.04\u001b[0m%\n"
      ]
     },
     "metadata": {},
     "output_type": "display_data"
    },
    {
     "data": {
      "text/html": [
       "<pre style=\"white-space:pre;overflow-x:auto;line-height:normal;font-family:Menlo,'DejaVu Sans Mono',consolas,'Courier New',monospace\">\n",
       " -Weighted mean illness percentage: <span style=\"color: #008080; text-decoration-color: #008080; font-weight: bold\">4.17</span>%\n",
       "</pre>\n"
      ],
      "text/plain": [
       "\n",
       " -Weighted mean illness percentage: \u001b[1;36m4.17\u001b[0m%\n"
      ]
     },
     "metadata": {},
     "output_type": "display_data"
    },
    {
     "data": {
      "text/html": [
       "<pre style=\"white-space:pre;overflow-x:auto;line-height:normal;font-family:Menlo,'DejaVu Sans Mono',consolas,'Courier New',monospace\">\n",
       " -Weighted mean appointments percentage: <span style=\"color: #008080; text-decoration-color: #008080; font-weight: bold\">0.28</span>%\n",
       "</pre>\n"
      ],
      "text/plain": [
       "\n",
       " -Weighted mean appointments percentage: \u001b[1;36m0.28\u001b[0m%\n"
      ]
     },
     "metadata": {},
     "output_type": "display_data"
    },
    {
     "data": {
      "text/html": [
       "<pre style=\"white-space:pre;overflow-x:auto;line-height:normal;font-family:Menlo,'DejaVu Sans Mono',consolas,'Courier New',monospace\"> -Weighted mean exclusions percentage: <span style=\"color: #008080; text-decoration-color: #008080; font-weight: bold\">0.06</span>%\n",
       "</pre>\n"
      ],
      "text/plain": [
       " -Weighted mean exclusions percentage: \u001b[1;36m0.06\u001b[0m%\n"
      ]
     },
     "metadata": {},
     "output_type": "display_data"
    },
    {
     "data": {
      "text/html": [
       "<pre style=\"white-space:pre;overflow-x:auto;line-height:normal;font-family:Menlo,'DejaVu Sans Mono',consolas,'Courier New',monospace\">\n",
       "\n",
       "Weighted mean unauthorised absence: <span style=\"color: #008080; text-decoration-color: #008080; font-weight: bold\">1.63</span>%\n",
       "</pre>\n"
      ],
      "text/plain": [
       "\n",
       "\n",
       "Weighted mean unauthorised absence: \u001b[1;36m1.63\u001b[0m%\n"
      ]
     },
     "metadata": {},
     "output_type": "display_data"
    },
    {
     "data": {
      "text/html": [
       "<pre style=\"white-space:pre;overflow-x:auto;line-height:normal;font-family:Menlo,'DejaVu Sans Mono',consolas,'Courier New',monospace\"> -Weighted mean holidays percentage: <span style=\"color: #008080; text-decoration-color: #008080; font-weight: bold\">0.44</span>%\n",
       "</pre>\n"
      ],
      "text/plain": [
       " -Weighted mean holidays percentage: \u001b[1;36m0.44\u001b[0m%\n"
      ]
     },
     "metadata": {},
     "output_type": "display_data"
    },
    {
     "data": {
      "text/html": [
       "<pre style=\"white-space:pre;overflow-x:auto;line-height:normal;font-family:Menlo,'DejaVu Sans Mono',consolas,'Courier New',monospace\"> -Weighted mean late percentage: <span style=\"color: #008080; text-decoration-color: #008080; font-weight: bold\">0.13</span>%\n",
       "</pre>\n"
      ],
      "text/plain": [
       " -Weighted mean late percentage: \u001b[1;36m0.13\u001b[0m%\n"
      ]
     },
     "metadata": {},
     "output_type": "display_data"
    },
    {
     "data": {
      "text/html": [
       "<pre style=\"white-space:pre;overflow-x:auto;line-height:normal;font-family:Menlo,'DejaVu Sans Mono',consolas,'Courier New',monospace\"> -Weighted mean other unauthorised percentage: <span style=\"color: #008080; text-decoration-color: #008080; font-weight: bold\">0.91</span>%\n",
       "</pre>\n"
      ],
      "text/plain": [
       " -Weighted mean other unauthorised percentage: \u001b[1;36m0.91\u001b[0m%\n"
      ]
     },
     "metadata": {},
     "output_type": "display_data"
    },
    {
     "data": {
      "text/html": [
       "<pre style=\"white-space:pre;overflow-x:auto;line-height:normal;font-family:Menlo,'DejaVu Sans Mono',consolas,'Courier New',monospace\">\n",
       "\n",
       "Weighted mean unauthorised absence by region:\n",
       "                 region_name  weighted_mean_unauth_2223\n",
       "<span style=\"color: #008080; text-decoration-color: #008080; font-weight: bold\">8</span>  Yorkshire and The Humber                       <span style=\"color: #008080; text-decoration-color: #008080; font-weight: bold\">2.00</span>\n",
       "<span style=\"color: #008080; text-decoration-color: #008080; font-weight: bold\">3</span>                North East                       <span style=\"color: #008080; text-decoration-color: #008080; font-weight: bold\">1.91</span>\n",
       "<span style=\"color: #008080; text-decoration-color: #008080; font-weight: bold\">2</span>                    London                       <span style=\"color: #008080; text-decoration-color: #008080; font-weight: bold\">1.76</span>\n",
       "<span style=\"color: #008080; text-decoration-color: #008080; font-weight: bold\">4</span>                North West                       <span style=\"color: #008080; text-decoration-color: #008080; font-weight: bold\">1.73</span>\n",
       "<span style=\"color: #008080; text-decoration-color: #008080; font-weight: bold\">7</span>             West Midlands                       <span style=\"color: #008080; text-decoration-color: #008080; font-weight: bold\">1.67</span>\n",
       "<span style=\"color: #008080; text-decoration-color: #008080; font-weight: bold\">0</span>             East Midlands                       <span style=\"color: #008080; text-decoration-color: #008080; font-weight: bold\">1.49</span>\n",
       "<span style=\"color: #008080; text-decoration-color: #008080; font-weight: bold\">5</span>                South East                       <span style=\"color: #008080; text-decoration-color: #008080; font-weight: bold\">1.47</span>\n",
       "<span style=\"color: #008080; text-decoration-color: #008080; font-weight: bold\">1</span>           East of England                       <span style=\"color: #008080; text-decoration-color: #008080; font-weight: bold\">1.43</span>\n",
       "<span style=\"color: #008080; text-decoration-color: #008080; font-weight: bold\">6</span>                South West                       <span style=\"color: #008080; text-decoration-color: #008080; font-weight: bold\">1.43</span>\n",
       "</pre>\n"
      ],
      "text/plain": [
       "\n",
       "\n",
       "Weighted mean unauthorised absence by region:\n",
       "                 region_name  weighted_mean_unauth_2223\n",
       "\u001b[1;36m8\u001b[0m  Yorkshire and The Humber                       \u001b[1;36m2.00\u001b[0m\n",
       "\u001b[1;36m3\u001b[0m                North East                       \u001b[1;36m1.91\u001b[0m\n",
       "\u001b[1;36m2\u001b[0m                    London                       \u001b[1;36m1.76\u001b[0m\n",
       "\u001b[1;36m4\u001b[0m                North West                       \u001b[1;36m1.73\u001b[0m\n",
       "\u001b[1;36m7\u001b[0m             West Midlands                       \u001b[1;36m1.67\u001b[0m\n",
       "\u001b[1;36m0\u001b[0m             East Midlands                       \u001b[1;36m1.49\u001b[0m\n",
       "\u001b[1;36m5\u001b[0m                South East                       \u001b[1;36m1.47\u001b[0m\n",
       "\u001b[1;36m1\u001b[0m           East of England                       \u001b[1;36m1.43\u001b[0m\n",
       "\u001b[1;36m6\u001b[0m                South West                       \u001b[1;36m1.43\u001b[0m\n"
      ]
     },
     "metadata": {},
     "output_type": "display_data"
    }
   ],
   "source": [
    "#24/25\n",
    "print(\"[bold]Analysis of reasons for absence 24/25:[/bold]\")\n",
    "\n",
    "weighted_mean_auth_2425 = (ytd_2425['authorised_absence_perc'] * ytd_2425['num_schools']).sum() / ytd_2425['num_schools'].sum()\n",
    "print(f\"\\nWeighted mean authorised absence: {weighted_mean_auth_2425:.2f}%\")\n",
    "\n",
    "weighted_mean_illness_2425 = (ytd_2425['illness_perc'] * ytd_2425['num_schools']).sum() / ytd_2425['num_schools'].sum()\n",
    "print(f\"\\n -Weighted mean illness percentage: {weighted_mean_illness_2425:.2f}%\")\n",
    "\n",
    "weighted_mean_appts_2425 = (ytd_2425['appointments_perc'] * ytd_2425['num_schools']).sum() / ytd_2425['num_schools'].sum()\n",
    "print(f\"\\n -Weighted mean appointments percentage: {weighted_mean_appts_2425:.2f}%\")\n",
    "\n",
    "weighted_mean_exclusions_2425 = (ytd_2425['auth_excluded_perc'] * ytd_2425['num_schools']).sum() / ytd_2425['num_schools'].sum()\n",
    "print(f\" -Weighted mean exclusions percentage: {weighted_mean_exclusions_2425:.2f}%\")\n",
    "\n",
    "weighted_mean_adapted_timetables_2425 = (ytd_2425['auth_part_time_perc'] * ytd_2425['num_schools']).sum() / ytd_2425['num_schools'].sum()\n",
    "print(f\" -Weighted mean adapted timetables percentage: {weighted_mean_adapted_timetables_2425:.2f}%\")\n",
    "\n",
    "weighted_mean_unauth_2425 = (ytd_2425['unauthorised_absence_perc'] * ytd_2425['num_schools']).sum() / ytd_2425['num_schools'].sum()\n",
    "print(f\"\\n\\nWeighted mean unauthorised absence: {weighted_mean_unauth_2425:.2f}%\")\n",
    "\n",
    "weighted_mean_holidays_2425 = (ytd_2425['unauth_hol_perc'] * ytd_2425['num_schools']).sum() / ytd_2425['num_schools'].sum()\n",
    "print(f\" -Weighted mean holidays percentage: {weighted_mean_holidays_2425:.2f}%\")\n",
    "\n",
    "weighted_mean_late_2425 = (ytd_2425['unauth_late_registers_closed_perc'] * ytd_2425['num_schools']).sum() / ytd_2425['num_schools'].sum()\n",
    "print(f\" -Weighted mean late percentage: {weighted_mean_late_2425:.2f}%\")\n",
    "\n",
    "weighted_mean_late_2425 = (ytd_2425['unauth_oth_perc'] * ytd_2425['num_schools']).sum() / ytd_2425['num_schools'].sum()\n",
    "print(f\" -Weighted mean other unauthorised percentage: {weighted_mean_late_2425:.2f}%\")\n",
    "\n",
    "weighted_mean_unauth_by_region_2425 = (\n",
    "    ytd_2425.groupby('region_name', as_index=False)\n",
    "    .agg(weighted_mean_unauth_2425=('unauthorised_absence_perc', lambda x: (x * ytd_2425.loc[x.index, 'num_schools']).sum() / ytd_2425.loc[x.index, 'num_schools'].sum()))\n",
    ")\n",
    "weighted_mean_unauth_by_region_2425['weighted_mean_unauth_2425'] = weighted_mean_unauth_by_region_2425['weighted_mean_unauth_2425'].round(2)\n",
    "weighted_mean_unauth_by_region_2425 = weighted_mean_unauth_by_region_2425.sort_values(by='weighted_mean_unauth_2425', ascending=False)\n",
    "print(\"\\n\\nWeighted mean unauthorised absence by region:\\n\", weighted_mean_unauth_by_region_2425)\n",
    "\n",
    "\n",
    "\n",
    "#23/24\n",
    "print(\"\\n\\n\\n[bold]Analysis of reasons for absence 23/24:[/bold]\")\n",
    "\n",
    "weighted_mean_auth_2324 = (ytd_2324['authorised_absence_perc'] * ytd_2324['num_schools']).sum() / ytd_2324['num_schools'].sum()\n",
    "print(f\"\\nWeighted mean authorised absence: {weighted_mean_auth_2324:.2f}%\")\n",
    "\n",
    "weighted_mean_illness_2324 = (ytd_2324['illness_perc'] * ytd_2324['num_schools']).sum() / ytd_2324['num_schools'].sum()\n",
    "print(f\"\\n -Weighted mean illness percentage: {weighted_mean_illness_2324:.2f}%\")\n",
    "\n",
    "weighted_mean_appts_2324 = (ytd_2324['appointments_perc'] * ytd_2324['num_schools']).sum() / ytd_2324['num_schools'].sum()\n",
    "print(f\"\\n -Weighted mean appointments percentage: {weighted_mean_appts_2324:.2f}%\")\n",
    "\n",
    "weighted_mean_exclusions_2324 = (ytd_2324['auth_excluded_perc'] * ytd_2324['num_schools']).sum() / ytd_2324['num_schools'].sum()\n",
    "print(f\" -Weighted mean exclusions percentage: {weighted_mean_exclusions_2324:.2f}%\")\n",
    "\n",
    "weighted_mean_unauth_2324 = (ytd_2324['unauthorised_absence_perc'] * ytd_2324['num_schools']).sum() / ytd_2324['num_schools'].sum()\n",
    "print(f\"\\n\\nWeighted mean unauthorised absence: {weighted_mean_unauth_2324:.2f}%\")\n",
    "\n",
    "weighted_mean_holidays_2324 = (ytd_2324['unauth_hol_perc'] * ytd_2324['num_schools']).sum() / ytd_2324['num_schools'].sum()\n",
    "print(f\" -Weighted mean holidays percentage: {weighted_mean_holidays_2324:.2f}%\")\n",
    "\n",
    "weighted_mean_late_2324 = (ytd_2324['unauth_late_registers_closed_perc'] * ytd_2324['num_schools']).sum() / ytd_2324['num_schools'].sum()\n",
    "print(f\" -Weighted mean late percentage: {weighted_mean_late_2324:.2f}%\")\n",
    "\n",
    "weighted_mean_late_2324 = (ytd_2324['unauth_oth_perc'] * ytd_2324['num_schools']).sum() / ytd_2324['num_schools'].sum()\n",
    "print(f\" -Weighted mean other unauthorised percentage: {weighted_mean_late_2324:.2f}%\")\n",
    "\n",
    "weighted_mean_unauth_by_region_2324 = (\n",
    "    ytd_2324.groupby('region_name', as_index=False)\n",
    "    .agg(weighted_mean_unauth_2324=('unauthorised_absence_perc', lambda x: (x * ytd_2324.loc[x.index, 'num_schools']).sum() / ytd_2324.loc[x.index, 'num_schools'].sum()))\n",
    ")\n",
    "weighted_mean_unauth_by_region_2324['weighted_mean_unauth_2324'] = weighted_mean_unauth_by_region_2324['weighted_mean_unauth_2324'].round(2)\n",
    "weighted_mean_unauth_by_region_2324 = weighted_mean_unauth_by_region_2324.sort_values(by='weighted_mean_unauth_2324', ascending=False)\n",
    "print(\"\\n\\nWeighted mean unauthorised absence by region:\\n\", weighted_mean_unauth_by_region_2324)\n",
    "\n",
    "\n",
    "\n",
    "\n",
    "#22/23\n",
    "print(\"\\n\\n\\n[bold]Analysis of reasons for absence 24/25:[/bold]\")\n",
    "\n",
    "weighted_mean_auth_2223 = (ytd_2223['authorised_absence_perc'] * ytd_2223['num_schools']).sum() / ytd_2223['num_schools'].sum()\n",
    "print(f\"\\nWeighted mean authorised absence: {weighted_mean_auth_2223:.2f}%\")\n",
    "\n",
    "weighted_mean_illness_2223 = (ytd_2223['illness_perc'] * ytd_2223['num_schools']).sum() / ytd_2223['num_schools'].sum()\n",
    "print(f\"\\n -Weighted mean illness percentage: {weighted_mean_illness_2223:.2f}%\")\n",
    "\n",
    "weighted_mean_appts_2223 = (ytd_2223['appointments_perc'] * ytd_2223['num_schools']).sum() / ytd_2223['num_schools'].sum()\n",
    "print(f\"\\n -Weighted mean appointments percentage: {weighted_mean_appts_2223:.2f}%\")\n",
    "\n",
    "weighted_mean_exclusions_2223 = (ytd_2223['auth_excluded_perc'] * ytd_2223['num_schools']).sum() / ytd_2223['num_schools'].sum()\n",
    "print(f\" -Weighted mean exclusions percentage: {weighted_mean_exclusions_2223:.2f}%\")\n",
    "\n",
    "weighted_mean_unauth_2223 = (ytd_2223['unauthorised_absence_perc'] * ytd_2223['num_schools']).sum() / ytd_2223['num_schools'].sum()\n",
    "print(f\"\\n\\nWeighted mean unauthorised absence: {weighted_mean_unauth_2223:.2f}%\")\n",
    "\n",
    "weighted_mean_holidays_2223 = (ytd_2223['unauth_hol_perc'] * ytd_2223['num_schools']).sum() / ytd_2223['num_schools'].sum()\n",
    "print(f\" -Weighted mean holidays percentage: {weighted_mean_holidays_2223:.2f}%\")\n",
    "\n",
    "weighted_mean_late_2223 = (ytd_2223['unauth_late_registers_closed_perc'] * ytd_2223['num_schools']).sum() / ytd_2223['num_schools'].sum()\n",
    "print(f\" -Weighted mean late percentage: {weighted_mean_late_2223:.2f}%\")\n",
    "\n",
    "weighted_mean_late_2223 = (ytd_2223['unauth_oth_perc'] * ytd_2223['num_schools']).sum() / ytd_2223['num_schools'].sum()\n",
    "print(f\" -Weighted mean other unauthorised percentage: {weighted_mean_late_2223:.2f}%\")\n",
    "\n",
    "weighted_mean_unauth_by_region_2223 = (\n",
    "    ytd_2223.groupby('region_name', as_index=False)\n",
    "    .agg(weighted_mean_unauth_2223=('unauthorised_absence_perc', lambda x: (x * ytd_2223.loc[x.index, 'num_schools']).sum() / ytd_2223.loc[x.index, 'num_schools'].sum()))\n",
    ")\n",
    "weighted_mean_unauth_by_region_2223['weighted_mean_unauth_2223'] = weighted_mean_unauth_by_region_2223['weighted_mean_unauth_2223'].round(2)\n",
    "weighted_mean_unauth_by_region_2223 = weighted_mean_unauth_by_region_2223.sort_values(by='weighted_mean_unauth_2223', ascending=False)\n",
    "print(\"\\n\\nWeighted mean unauthorised absence by region:\\n\", weighted_mean_unauth_by_region_2223)\n"
   ]
  },
  {
   "cell_type": "markdown",
   "id": "755cb13a-6853-4159-92c9-90710911bcb3",
   "metadata": {},
   "source": [
    "<br><br>\n",
    "\n",
    "***Local authority-level analysis***\n",
    "\n",
    "Each local authority has a separate row for 'primary, 'secondary' and 'special' so aggregate figures need to be calculated in order to compare between local authorities. These figures will need to be weighted as each local authority will have a different number of primary, secondary and special schools."
   ]
  },
  {
   "cell_type": "code",
   "execution_count": 6,
   "id": "44c6220d-6718-494c-9917-0c465cb1a7f6",
   "metadata": {},
   "outputs": [
    {
     "data": {
      "text/html": [
       "<pre style=\"white-space:pre;overflow-x:auto;line-height:normal;font-family:Menlo,'DejaVu Sans Mono',consolas,'Courier New',monospace\"><span style=\"font-weight: bold\">Local authority-level analysis </span><span style=\"color: #008080; text-decoration-color: #008080; font-weight: bold\">24</span><span style=\"font-weight: bold\">/</span><span style=\"color: #008080; text-decoration-color: #008080; font-weight: bold\">25</span>\n",
       "</pre>\n"
      ],
      "text/plain": [
       "\u001b[1mLocal authority-level analysis \u001b[0m\u001b[1;36m24\u001b[0m\u001b[1m/\u001b[0m\u001b[1;36m25\u001b[0m\n"
      ]
     },
     "metadata": {},
     "output_type": "display_data"
    },
    {
     "data": {
      "text/html": [
       "<pre style=\"white-space:pre;overflow-x:auto;line-height:normal;font-family:Menlo,'DejaVu Sans Mono',consolas,'Courier New',monospace\">\n",
       "\n",
       "Top <span style=\"color: #008080; text-decoration-color: #008080; font-weight: bold\">5</span> local authorities by attendance <span style=\"color: #008080; text-decoration-color: #008080; font-weight: bold\">24</span>/<span style=\"color: #008080; text-decoration-color: #008080; font-weight: bold\">25</span>\n",
       "                      la_name  weighted_mean_attendance_2425\n",
       "<span style=\"color: #008080; text-decoration-color: #008080; font-weight: bold\">99</span>      Richmond upon Thames                          <span style=\"color: #008080; text-decoration-color: #008080; font-weight: bold\">95.09</span>\n",
       "<span style=\"color: #008080; text-decoration-color: #008080; font-weight: bold\">102</span>                  Rutland                          <span style=\"color: #008080; text-decoration-color: #008080; font-weight: bold\">95.00</span>\n",
       "<span style=\"color: #008080; text-decoration-color: #008080; font-weight: bold\">142</span>  Westmorland and Furness                          <span style=\"color: #008080; text-decoration-color: #008080; font-weight: bold\">94.96</span>\n",
       "<span style=\"color: #008080; text-decoration-color: #008080; font-weight: bold\">131</span>                 Trafford                          <span style=\"color: #008080; text-decoration-color: #008080; font-weight: bold\">94.94</span>\n",
       "<span style=\"color: #008080; text-decoration-color: #008080; font-weight: bold\">147</span>                Wokingham                          <span style=\"color: #008080; text-decoration-color: #008080; font-weight: bold\">94.94</span>\n",
       "</pre>\n"
      ],
      "text/plain": [
       "\n",
       "\n",
       "Top \u001b[1;36m5\u001b[0m local authorities by attendance \u001b[1;36m24\u001b[0m/\u001b[1;36m25\u001b[0m\n",
       "                      la_name  weighted_mean_attendance_2425\n",
       "\u001b[1;36m99\u001b[0m      Richmond upon Thames                          \u001b[1;36m95.09\u001b[0m\n",
       "\u001b[1;36m102\u001b[0m                  Rutland                          \u001b[1;36m95.00\u001b[0m\n",
       "\u001b[1;36m142\u001b[0m  Westmorland and Furness                          \u001b[1;36m94.96\u001b[0m\n",
       "\u001b[1;36m131\u001b[0m                 Trafford                          \u001b[1;36m94.94\u001b[0m\n",
       "\u001b[1;36m147\u001b[0m                Wokingham                          \u001b[1;36m94.94\u001b[0m\n"
      ]
     },
     "metadata": {},
     "output_type": "display_data"
    },
    {
     "data": {
      "text/html": [
       "<pre style=\"white-space:pre;overflow-x:auto;line-height:normal;font-family:Menlo,'DejaVu Sans Mono',consolas,'Courier New',monospace\">\n",
       "\n",
       "Bottom <span style=\"color: #008080; text-decoration-color: #008080; font-weight: bold\">5</span> local authorities by attendance <span style=\"color: #008080; text-decoration-color: #008080; font-weight: bold\">24</span>/<span style=\"color: #008080; text-decoration-color: #008080; font-weight: bold\">25</span>\n",
       "              la_name  weighted_mean_attendance_2425\n",
       "<span style=\"color: #008080; text-decoration-color: #008080; font-weight: bold\">39</span>       East Sussex                          <span style=\"color: #008080; text-decoration-color: #008080; font-weight: bold\">92.97</span>\n",
       "<span style=\"color: #008080; text-decoration-color: #008080; font-weight: bold\">64</span>          Knowsley                          <span style=\"color: #008080; text-decoration-color: #008080; font-weight: bold\">92.96</span>\n",
       "<span style=\"color: #008080; text-decoration-color: #008080; font-weight: bold\">95</span>        Portsmouth                          <span style=\"color: #008080; text-decoration-color: #008080; font-weight: bold\">92.88</span>\n",
       "<span style=\"color: #008080; text-decoration-color: #008080; font-weight: bold\">15</span>  Bristol, City of                          <span style=\"color: #008080; text-decoration-color: #008080; font-weight: bold\">92.80</span>\n",
       "<span style=\"color: #008080; text-decoration-color: #008080; font-weight: bold\">58</span>         Islington                          <span style=\"color: #008080; text-decoration-color: #008080; font-weight: bold\">92.78</span>\n",
       "</pre>\n"
      ],
      "text/plain": [
       "\n",
       "\n",
       "Bottom \u001b[1;36m5\u001b[0m local authorities by attendance \u001b[1;36m24\u001b[0m/\u001b[1;36m25\u001b[0m\n",
       "              la_name  weighted_mean_attendance_2425\n",
       "\u001b[1;36m39\u001b[0m       East Sussex                          \u001b[1;36m92.97\u001b[0m\n",
       "\u001b[1;36m64\u001b[0m          Knowsley                          \u001b[1;36m92.96\u001b[0m\n",
       "\u001b[1;36m95\u001b[0m        Portsmouth                          \u001b[1;36m92.88\u001b[0m\n",
       "\u001b[1;36m15\u001b[0m  Bristol, City of                          \u001b[1;36m92.80\u001b[0m\n",
       "\u001b[1;36m58\u001b[0m         Islington                          \u001b[1;36m92.78\u001b[0m\n"
      ]
     },
     "metadata": {},
     "output_type": "display_data"
    },
    {
     "data": {
      "text/html": [
       "<pre style=\"white-space:pre;overflow-x:auto;line-height:normal;font-family:Menlo,'DejaVu Sans Mono',consolas,'Courier New',monospace\">\n",
       "\n",
       "Mean local authority attendance: <span style=\"color: #008080; text-decoration-color: #008080; font-weight: bold\">94.02</span>\n",
       "</pre>\n"
      ],
      "text/plain": [
       "\n",
       "\n",
       "Mean local authority attendance: \u001b[1;36m94.02\u001b[0m\n"
      ]
     },
     "metadata": {},
     "output_type": "display_data"
    },
    {
     "data": {
      "text/html": [
       "<pre style=\"white-space:pre;overflow-x:auto;line-height:normal;font-family:Menlo,'DejaVu Sans Mono',consolas,'Courier New',monospace\">\n",
       "\n",
       "\n",
       "Top <span style=\"color: #008080; text-decoration-color: #008080; font-weight: bold\">5</span> local authorities by unauthorised absence <span style=\"color: #008080; text-decoration-color: #008080; font-weight: bold\">24</span>/<span style=\"color: #008080; text-decoration-color: #008080; font-weight: bold\">25</span>\n",
       "                 la_name  weighted_mean_unauthorised_2425\n",
       "<span style=\"color: #008080; text-decoration-color: #008080; font-weight: bold\">64</span>             Knowsley                             <span style=\"color: #008080; text-decoration-color: #008080; font-weight: bold\">3.18</span>\n",
       "<span style=\"color: #008080; text-decoration-color: #008080; font-weight: bold\">8</span>             Blackpool                             <span style=\"color: #008080; text-decoration-color: #008080; font-weight: bold\">3.17</span>\n",
       "<span style=\"color: #008080; text-decoration-color: #008080; font-weight: bold\">89</span>           Nottingham                             <span style=\"color: #008080; text-decoration-color: #008080; font-weight: bold\">2.99</span>\n",
       "<span style=\"color: #008080; text-decoration-color: #008080; font-weight: bold\">79</span>  Newcastle upon Tyne                             <span style=\"color: #008080; text-decoration-color: #008080; font-weight: bold\">2.87</span>\n",
       "<span style=\"color: #008080; text-decoration-color: #008080; font-weight: bold\">72</span>            Liverpool                             <span style=\"color: #008080; text-decoration-color: #008080; font-weight: bold\">2.83</span>\n",
       "</pre>\n"
      ],
      "text/plain": [
       "\n",
       "\n",
       "\n",
       "Top \u001b[1;36m5\u001b[0m local authorities by unauthorised absence \u001b[1;36m24\u001b[0m/\u001b[1;36m25\u001b[0m\n",
       "                 la_name  weighted_mean_unauthorised_2425\n",
       "\u001b[1;36m64\u001b[0m             Knowsley                             \u001b[1;36m3.18\u001b[0m\n",
       "\u001b[1;36m8\u001b[0m             Blackpool                             \u001b[1;36m3.17\u001b[0m\n",
       "\u001b[1;36m89\u001b[0m           Nottingham                             \u001b[1;36m2.99\u001b[0m\n",
       "\u001b[1;36m79\u001b[0m  Newcastle upon Tyne                             \u001b[1;36m2.87\u001b[0m\n",
       "\u001b[1;36m72\u001b[0m            Liverpool                             \u001b[1;36m2.83\u001b[0m\n"
      ]
     },
     "metadata": {},
     "output_type": "display_data"
    },
    {
     "data": {
      "text/html": [
       "<pre style=\"white-space:pre;overflow-x:auto;line-height:normal;font-family:Menlo,'DejaVu Sans Mono',consolas,'Courier New',monospace\">\n",
       "\n",
       "Bottom <span style=\"color: #008080; text-decoration-color: #008080; font-weight: bold\">5</span> local authorities by unauthorised absence <span style=\"color: #008080; text-decoration-color: #008080; font-weight: bold\">24</span>/<span style=\"color: #008080; text-decoration-color: #008080; font-weight: bold\">25</span>\n",
       "                       la_name  weighted_mean_unauthorised_2425\n",
       "<span style=\"color: #008080; text-decoration-color: #008080; font-weight: bold\">138</span>            West Berkshire                             <span style=\"color: #008080; text-decoration-color: #008080; font-weight: bold\">1.10</span>\n",
       "<span style=\"color: #008080; text-decoration-color: #008080; font-weight: bold\">107</span>                Shropshire                             <span style=\"color: #008080; text-decoration-color: #008080; font-weight: bold\">1.08</span>\n",
       "<span style=\"color: #008080; text-decoration-color: #008080; font-weight: bold\">147</span>                 Wokingham                             <span style=\"color: #008080; text-decoration-color: #008080; font-weight: bold\">1.05</span>\n",
       "<span style=\"color: #008080; text-decoration-color: #008080; font-weight: bold\">53</span>   Herefordshire, County of                             <span style=\"color: #008080; text-decoration-color: #008080; font-weight: bold\">0.93</span>\n",
       "<span style=\"color: #008080; text-decoration-color: #008080; font-weight: bold\">102</span>                   Rutland                             <span style=\"color: #008080; text-decoration-color: #008080; font-weight: bold\">0.88</span>\n",
       "</pre>\n"
      ],
      "text/plain": [
       "\n",
       "\n",
       "Bottom \u001b[1;36m5\u001b[0m local authorities by unauthorised absence \u001b[1;36m24\u001b[0m/\u001b[1;36m25\u001b[0m\n",
       "                       la_name  weighted_mean_unauthorised_2425\n",
       "\u001b[1;36m138\u001b[0m            West Berkshire                             \u001b[1;36m1.10\u001b[0m\n",
       "\u001b[1;36m107\u001b[0m                Shropshire                             \u001b[1;36m1.08\u001b[0m\n",
       "\u001b[1;36m147\u001b[0m                 Wokingham                             \u001b[1;36m1.05\u001b[0m\n",
       "\u001b[1;36m53\u001b[0m   Herefordshire, County of                             \u001b[1;36m0.93\u001b[0m\n",
       "\u001b[1;36m102\u001b[0m                   Rutland                             \u001b[1;36m0.88\u001b[0m\n"
      ]
     },
     "metadata": {},
     "output_type": "display_data"
    },
    {
     "data": {
      "text/html": [
       "<pre style=\"white-space:pre;overflow-x:auto;line-height:normal;font-family:Menlo,'DejaVu Sans Mono',consolas,'Courier New',monospace\">\n",
       "\n",
       "Mean local authority unauthorised absence: <span style=\"color: #008080; text-decoration-color: #008080; font-weight: bold\">1.69</span>\n",
       "</pre>\n"
      ],
      "text/plain": [
       "\n",
       "\n",
       "Mean local authority unauthorised absence: \u001b[1;36m1.69\u001b[0m\n"
      ]
     },
     "metadata": {},
     "output_type": "display_data"
    },
    {
     "data": {
      "text/html": [
       "<pre style=\"white-space:pre;overflow-x:auto;line-height:normal;font-family:Menlo,'DejaVu Sans Mono',consolas,'Courier New',monospace\">\n",
       "\n",
       "\n",
       "Top <span style=\"color: #008080; text-decoration-color: #008080; font-weight: bold\">5</span> local authorities by reason for absence - excluded <span style=\"color: #008080; text-decoration-color: #008080; font-weight: bold\">24</span>/<span style=\"color: #008080; text-decoration-color: #008080; font-weight: bold\">25</span>\n",
       "                  la_name  weighted_mean_excluded_2425\n",
       "<span style=\"color: #008080; text-decoration-color: #008080; font-weight: bold\">8</span>              Blackpool                         <span style=\"color: #008080; text-decoration-color: #008080; font-weight: bold\">0.16</span>\n",
       "<span style=\"color: #008080; text-decoration-color: #008080; font-weight: bold\">75</span>                Medway                         <span style=\"color: #008080; text-decoration-color: #008080; font-weight: bold\">0.15</span>\n",
       "<span style=\"color: #008080; text-decoration-color: #008080; font-weight: bold\">120</span>       Stoke-on-Trent                         <span style=\"color: #008080; text-decoration-color: #008080; font-weight: bold\">0.15</span>\n",
       "<span style=\"color: #008080; text-decoration-color: #008080; font-weight: bold\">79</span>   Newcastle upon Tyne                         <span style=\"color: #008080; text-decoration-color: #008080; font-weight: bold\">0.14</span>\n",
       "<span style=\"color: #008080; text-decoration-color: #008080; font-weight: bold\">95</span>            Portsmouth                         <span style=\"color: #008080; text-decoration-color: #008080; font-weight: bold\">0.14</span>\n",
       "</pre>\n"
      ],
      "text/plain": [
       "\n",
       "\n",
       "\n",
       "Top \u001b[1;36m5\u001b[0m local authorities by reason for absence - excluded \u001b[1;36m24\u001b[0m/\u001b[1;36m25\u001b[0m\n",
       "                  la_name  weighted_mean_excluded_2425\n",
       "\u001b[1;36m8\u001b[0m              Blackpool                         \u001b[1;36m0.16\u001b[0m\n",
       "\u001b[1;36m75\u001b[0m                Medway                         \u001b[1;36m0.15\u001b[0m\n",
       "\u001b[1;36m120\u001b[0m       Stoke-on-Trent                         \u001b[1;36m0.15\u001b[0m\n",
       "\u001b[1;36m79\u001b[0m   Newcastle upon Tyne                         \u001b[1;36m0.14\u001b[0m\n",
       "\u001b[1;36m95\u001b[0m            Portsmouth                         \u001b[1;36m0.14\u001b[0m\n"
      ]
     },
     "metadata": {},
     "output_type": "display_data"
    },
    {
     "data": {
      "text/html": [
       "<pre style=\"white-space:pre;overflow-x:auto;line-height:normal;font-family:Menlo,'DejaVu Sans Mono',consolas,'Courier New',monospace\">\n",
       "\n",
       "Bottom <span style=\"color: #008080; text-decoration-color: #008080; font-weight: bold\">5</span> local authorities by reason for absence - excluded <span style=\"color: #008080; text-decoration-color: #008080; font-weight: bold\">24</span>/<span style=\"color: #008080; text-decoration-color: #008080; font-weight: bold\">25</span>\n",
       "                  la_name  weighted_mean_excluded_2425\n",
       "<span style=\"color: #008080; text-decoration-color: #008080; font-weight: bold\">50</span>                Harrow                         <span style=\"color: #008080; text-decoration-color: #008080; font-weight: bold\">0.04</span>\n",
       "<span style=\"color: #008080; text-decoration-color: #008080; font-weight: bold\">0</span>   Barking and Dagenham                         <span style=\"color: #008080; text-decoration-color: #008080; font-weight: bold\">0.04</span>\n",
       "<span style=\"color: #008080; text-decoration-color: #008080; font-weight: bold\">76</span>                Merton                         <span style=\"color: #008080; text-decoration-color: #008080; font-weight: bold\">0.03</span>\n",
       "<span style=\"color: #008080; text-decoration-color: #008080; font-weight: bold\">99</span>  Richmond upon Thames                         <span style=\"color: #008080; text-decoration-color: #008080; font-weight: bold\">0.02</span>\n",
       "<span style=\"color: #008080; text-decoration-color: #008080; font-weight: bold\">62</span>  Kingston upon Thames                         <span style=\"color: #008080; text-decoration-color: #008080; font-weight: bold\">0.02</span>\n",
       "</pre>\n"
      ],
      "text/plain": [
       "\n",
       "\n",
       "Bottom \u001b[1;36m5\u001b[0m local authorities by reason for absence - excluded \u001b[1;36m24\u001b[0m/\u001b[1;36m25\u001b[0m\n",
       "                  la_name  weighted_mean_excluded_2425\n",
       "\u001b[1;36m50\u001b[0m                Harrow                         \u001b[1;36m0.04\u001b[0m\n",
       "\u001b[1;36m0\u001b[0m   Barking and Dagenham                         \u001b[1;36m0.04\u001b[0m\n",
       "\u001b[1;36m76\u001b[0m                Merton                         \u001b[1;36m0.03\u001b[0m\n",
       "\u001b[1;36m99\u001b[0m  Richmond upon Thames                         \u001b[1;36m0.02\u001b[0m\n",
       "\u001b[1;36m62\u001b[0m  Kingston upon Thames                         \u001b[1;36m0.02\u001b[0m\n"
      ]
     },
     "metadata": {},
     "output_type": "display_data"
    },
    {
     "data": {
      "text/html": [
       "<pre style=\"white-space:pre;overflow-x:auto;line-height:normal;font-family:Menlo,'DejaVu Sans Mono',consolas,'Courier New',monospace\">\n",
       "\n",
       "Mean local authority reason for absence - excluded: <span style=\"color: #008080; text-decoration-color: #008080; font-weight: bold\">0.08</span>\n",
       "</pre>\n"
      ],
      "text/plain": [
       "\n",
       "\n",
       "Mean local authority reason for absence - excluded: \u001b[1;36m0.08\u001b[0m\n"
      ]
     },
     "metadata": {},
     "output_type": "display_data"
    },
    {
     "data": {
      "text/html": [
       "<pre style=\"white-space:pre;overflow-x:auto;line-height:normal;font-family:Menlo,'DejaVu Sans Mono',consolas,'Courier New',monospace\">\n",
       "\n",
       "\n",
       "Top <span style=\"color: #008080; text-decoration-color: #008080; font-weight: bold\">5</span> local authorities by reason for absence - adapted timetable <span style=\"color: #008080; text-decoration-color: #008080; font-weight: bold\">24</span>/<span style=\"color: #008080; text-decoration-color: #008080; font-weight: bold\">25</span>\n",
       "            la_name  weighted_mean_AT_2425\n",
       "<span style=\"color: #008080; text-decoration-color: #008080; font-weight: bold\">95</span>      Portsmouth                   <span style=\"color: #008080; text-decoration-color: #008080; font-weight: bold\">0.61</span>\n",
       "<span style=\"color: #008080; text-decoration-color: #008080; font-weight: bold\">110</span>       Somerset                   <span style=\"color: #008080; text-decoration-color: #008080; font-weight: bold\">0.45</span>\n",
       "<span style=\"color: #008080; text-decoration-color: #008080; font-weight: bold\">57</span>   Isle of Wight                   <span style=\"color: #008080; text-decoration-color: #008080; font-weight: bold\">0.41</span>\n",
       "<span style=\"color: #008080; text-decoration-color: #008080; font-weight: bold\">68</span>       Leicester                   <span style=\"color: #008080; text-decoration-color: #008080; font-weight: bold\">0.39</span>\n",
       "<span style=\"color: #008080; text-decoration-color: #008080; font-weight: bold\">106</span>      Sheffield                   <span style=\"color: #008080; text-decoration-color: #008080; font-weight: bold\">0.38</span>\n",
       "</pre>\n"
      ],
      "text/plain": [
       "\n",
       "\n",
       "\n",
       "Top \u001b[1;36m5\u001b[0m local authorities by reason for absence - adapted timetable \u001b[1;36m24\u001b[0m/\u001b[1;36m25\u001b[0m\n",
       "            la_name  weighted_mean_AT_2425\n",
       "\u001b[1;36m95\u001b[0m      Portsmouth                   \u001b[1;36m0.61\u001b[0m\n",
       "\u001b[1;36m110\u001b[0m       Somerset                   \u001b[1;36m0.45\u001b[0m\n",
       "\u001b[1;36m57\u001b[0m   Isle of Wight                   \u001b[1;36m0.41\u001b[0m\n",
       "\u001b[1;36m68\u001b[0m       Leicester                   \u001b[1;36m0.39\u001b[0m\n",
       "\u001b[1;36m106\u001b[0m      Sheffield                   \u001b[1;36m0.38\u001b[0m\n"
      ]
     },
     "metadata": {},
     "output_type": "display_data"
    },
    {
     "data": {
      "text/html": [
       "<pre style=\"white-space:pre;overflow-x:auto;line-height:normal;font-family:Menlo,'DejaVu Sans Mono',consolas,'Courier New',monospace\">\n",
       "\n",
       "Bottom <span style=\"color: #008080; text-decoration-color: #008080; font-weight: bold\">5</span> local authorities by reason for absence - adapted timetable <span style=\"color: #008080; text-decoration-color: #008080; font-weight: bold\">24</span>/<span style=\"color: #008080; text-decoration-color: #008080; font-weight: bold\">25</span>\n",
       "             la_name  weighted_mean_AT_2425\n",
       "<span style=\"color: #008080; text-decoration-color: #008080; font-weight: bold\">37</span>           Ealing                   <span style=\"color: #008080; text-decoration-color: #008080; font-weight: bold\">0.04</span>\n",
       "<span style=\"color: #008080; text-decoration-color: #008080; font-weight: bold\">134</span>  Waltham Forest                   <span style=\"color: #008080; text-decoration-color: #008080; font-weight: bold\">0.03</span>\n",
       "<span style=\"color: #008080; text-decoration-color: #008080; font-weight: bold\">51</span>       Hartlepool                   <span style=\"color: #008080; text-decoration-color: #008080; font-weight: bold\">0.03</span>\n",
       "<span style=\"color: #008080; text-decoration-color: #008080; font-weight: bold\">13</span>            Brent                   <span style=\"color: #008080; text-decoration-color: #008080; font-weight: bold\">0.03</span>\n",
       "<span style=\"color: #008080; text-decoration-color: #008080; font-weight: bold\">141</span>     Westminster                   <span style=\"color: #008080; text-decoration-color: #008080; font-weight: bold\">0.02</span>\n",
       "</pre>\n"
      ],
      "text/plain": [
       "\n",
       "\n",
       "Bottom \u001b[1;36m5\u001b[0m local authorities by reason for absence - adapted timetable \u001b[1;36m24\u001b[0m/\u001b[1;36m25\u001b[0m\n",
       "             la_name  weighted_mean_AT_2425\n",
       "\u001b[1;36m37\u001b[0m           Ealing                   \u001b[1;36m0.04\u001b[0m\n",
       "\u001b[1;36m134\u001b[0m  Waltham Forest                   \u001b[1;36m0.03\u001b[0m\n",
       "\u001b[1;36m51\u001b[0m       Hartlepool                   \u001b[1;36m0.03\u001b[0m\n",
       "\u001b[1;36m13\u001b[0m            Brent                   \u001b[1;36m0.03\u001b[0m\n",
       "\u001b[1;36m141\u001b[0m     Westminster                   \u001b[1;36m0.02\u001b[0m\n"
      ]
     },
     "metadata": {},
     "output_type": "display_data"
    },
    {
     "data": {
      "text/html": [
       "<pre style=\"white-space:pre;overflow-x:auto;line-height:normal;font-family:Menlo,'DejaVu Sans Mono',consolas,'Courier New',monospace\">\n",
       "\n",
       "Mean local authority reason for absence - adapted timetable: <span style=\"color: #008080; text-decoration-color: #008080; font-weight: bold\">0.19</span>\n",
       "</pre>\n"
      ],
      "text/plain": [
       "\n",
       "\n",
       "Mean local authority reason for absence - adapted timetable: \u001b[1;36m0.19\u001b[0m\n"
      ]
     },
     "metadata": {},
     "output_type": "display_data"
    },
    {
     "data": {
      "text/html": [
       "<pre style=\"white-space:pre;overflow-x:auto;line-height:normal;font-family:Menlo,'DejaVu Sans Mono',consolas,'Courier New',monospace\">\n",
       "\n",
       "\n",
       "Top <span style=\"color: #008080; text-decoration-color: #008080; font-weight: bold\">5</span> local authorities by adapted timetable absences as percentage of absence <span style=\"color: #008080; text-decoration-color: #008080; font-weight: bold\">24</span>/<span style=\"color: #008080; text-decoration-color: #008080; font-weight: bold\">25</span>\n",
       "            la_name  weighted_mean_AT_2425  absence_perc  AT_as_pct_of_absence\n",
       "<span style=\"color: #008080; text-decoration-color: #008080; font-weight: bold\">95</span>      Portsmouth                   <span style=\"color: #008080; text-decoration-color: #008080; font-weight: bold\">0.61</span>          <span style=\"color: #008080; text-decoration-color: #008080; font-weight: bold\">7.12</span>              <span style=\"color: #008080; text-decoration-color: #008080; font-weight: bold\">8.567416</span>\n",
       "<span style=\"color: #008080; text-decoration-color: #008080; font-weight: bold\">110</span>       Somerset                   <span style=\"color: #008080; text-decoration-color: #008080; font-weight: bold\">0.45</span>          <span style=\"color: #008080; text-decoration-color: #008080; font-weight: bold\">6.39</span>              <span style=\"color: #008080; text-decoration-color: #008080; font-weight: bold\">7.042254</span>\n",
       "<span style=\"color: #008080; text-decoration-color: #008080; font-weight: bold\">57</span>   Isle of Wight                   <span style=\"color: #008080; text-decoration-color: #008080; font-weight: bold\">0.41</span>          <span style=\"color: #008080; text-decoration-color: #008080; font-weight: bold\">6.82</span>              <span style=\"color: #008080; text-decoration-color: #008080; font-weight: bold\">6.011730</span>\n",
       "<span style=\"color: #008080; text-decoration-color: #008080; font-weight: bold\">68</span>       Leicester                   <span style=\"color: #008080; text-decoration-color: #008080; font-weight: bold\">0.39</span>          <span style=\"color: #008080; text-decoration-color: #008080; font-weight: bold\">6.77</span>              <span style=\"color: #008080; text-decoration-color: #008080; font-weight: bold\">5.760709</span>\n",
       "<span style=\"color: #008080; text-decoration-color: #008080; font-weight: bold\">74</span>      Manchester                   <span style=\"color: #008080; text-decoration-color: #008080; font-weight: bold\">0.36</span>          <span style=\"color: #008080; text-decoration-color: #008080; font-weight: bold\">6.34</span>              <span style=\"color: #008080; text-decoration-color: #008080; font-weight: bold\">5.678233</span>\n",
       "</pre>\n"
      ],
      "text/plain": [
       "\n",
       "\n",
       "\n",
       "Top \u001b[1;36m5\u001b[0m local authorities by adapted timetable absences as percentage of absence \u001b[1;36m24\u001b[0m/\u001b[1;36m25\u001b[0m\n",
       "            la_name  weighted_mean_AT_2425  absence_perc  AT_as_pct_of_absence\n",
       "\u001b[1;36m95\u001b[0m      Portsmouth                   \u001b[1;36m0.61\u001b[0m          \u001b[1;36m7.12\u001b[0m              \u001b[1;36m8.567416\u001b[0m\n",
       "\u001b[1;36m110\u001b[0m       Somerset                   \u001b[1;36m0.45\u001b[0m          \u001b[1;36m6.39\u001b[0m              \u001b[1;36m7.042254\u001b[0m\n",
       "\u001b[1;36m57\u001b[0m   Isle of Wight                   \u001b[1;36m0.41\u001b[0m          \u001b[1;36m6.82\u001b[0m              \u001b[1;36m6.011730\u001b[0m\n",
       "\u001b[1;36m68\u001b[0m       Leicester                   \u001b[1;36m0.39\u001b[0m          \u001b[1;36m6.77\u001b[0m              \u001b[1;36m5.760709\u001b[0m\n",
       "\u001b[1;36m74\u001b[0m      Manchester                   \u001b[1;36m0.36\u001b[0m          \u001b[1;36m6.34\u001b[0m              \u001b[1;36m5.678233\u001b[0m\n"
      ]
     },
     "metadata": {},
     "output_type": "display_data"
    },
    {
     "data": {
      "text/html": [
       "<pre style=\"white-space:pre;overflow-x:auto;line-height:normal;font-family:Menlo,'DejaVu Sans Mono',consolas,'Courier New',monospace\">\n",
       "\n",
       "Bottom <span style=\"color: #008080; text-decoration-color: #008080; font-weight: bold\">5</span> local authorities by adapted timetable absences as a percentage of overall absence - <span style=\"color: #008080; text-decoration-color: #008080; font-weight: bold\">24</span>/<span style=\"color: #008080; text-decoration-color: #008080; font-weight: bold\">25</span>\n",
       "             la_name  weighted_mean_AT_2425  absence_perc  AT_as_pct_of_absence\n",
       "<span style=\"color: #008080; text-decoration-color: #008080; font-weight: bold\">37</span>           Ealing                   <span style=\"color: #008080; text-decoration-color: #008080; font-weight: bold\">0.04</span>          <span style=\"color: #008080; text-decoration-color: #008080; font-weight: bold\">5.64</span>              <span style=\"color: #008080; text-decoration-color: #008080; font-weight: bold\">0.709220</span>\n",
       "<span style=\"color: #008080; text-decoration-color: #008080; font-weight: bold\">13</span>            Brent                   <span style=\"color: #008080; text-decoration-color: #008080; font-weight: bold\">0.03</span>          <span style=\"color: #008080; text-decoration-color: #008080; font-weight: bold\">5.62</span>              <span style=\"color: #008080; text-decoration-color: #008080; font-weight: bold\">0.533808</span>\n",
       "<span style=\"color: #008080; text-decoration-color: #008080; font-weight: bold\">51</span>       Hartlepool                   <span style=\"color: #008080; text-decoration-color: #008080; font-weight: bold\">0.03</span>          <span style=\"color: #008080; text-decoration-color: #008080; font-weight: bold\">6.02</span>              <span style=\"color: #008080; text-decoration-color: #008080; font-weight: bold\">0.498339</span>\n",
       "<span style=\"color: #008080; text-decoration-color: #008080; font-weight: bold\">134</span>  Waltham Forest                   <span style=\"color: #008080; text-decoration-color: #008080; font-weight: bold\">0.03</span>          <span style=\"color: #008080; text-decoration-color: #008080; font-weight: bold\">6.09</span>              <span style=\"color: #008080; text-decoration-color: #008080; font-weight: bold\">0.492611</span>\n",
       "<span style=\"color: #008080; text-decoration-color: #008080; font-weight: bold\">141</span>     Westminster                   <span style=\"color: #008080; text-decoration-color: #008080; font-weight: bold\">0.02</span>          <span style=\"color: #008080; text-decoration-color: #008080; font-weight: bold\">6.46</span>              <span style=\"color: #008080; text-decoration-color: #008080; font-weight: bold\">0.309598</span>\n",
       "</pre>\n"
      ],
      "text/plain": [
       "\n",
       "\n",
       "Bottom \u001b[1;36m5\u001b[0m local authorities by adapted timetable absences as a percentage of overall absence - \u001b[1;36m24\u001b[0m/\u001b[1;36m25\u001b[0m\n",
       "             la_name  weighted_mean_AT_2425  absence_perc  AT_as_pct_of_absence\n",
       "\u001b[1;36m37\u001b[0m           Ealing                   \u001b[1;36m0.04\u001b[0m          \u001b[1;36m5.64\u001b[0m              \u001b[1;36m0.709220\u001b[0m\n",
       "\u001b[1;36m13\u001b[0m            Brent                   \u001b[1;36m0.03\u001b[0m          \u001b[1;36m5.62\u001b[0m              \u001b[1;36m0.533808\u001b[0m\n",
       "\u001b[1;36m51\u001b[0m       Hartlepool                   \u001b[1;36m0.03\u001b[0m          \u001b[1;36m6.02\u001b[0m              \u001b[1;36m0.498339\u001b[0m\n",
       "\u001b[1;36m134\u001b[0m  Waltham Forest                   \u001b[1;36m0.03\u001b[0m          \u001b[1;36m6.09\u001b[0m              \u001b[1;36m0.492611\u001b[0m\n",
       "\u001b[1;36m141\u001b[0m     Westminster                   \u001b[1;36m0.02\u001b[0m          \u001b[1;36m6.46\u001b[0m              \u001b[1;36m0.309598\u001b[0m\n"
      ]
     },
     "metadata": {},
     "output_type": "display_data"
    },
    {
     "data": {
      "text/html": [
       "<pre style=\"white-space:pre;overflow-x:auto;line-height:normal;font-family:Menlo,'DejaVu Sans Mono',consolas,'Courier New',monospace\">\n",
       "\n",
       "Mean AT as percentage of absence: <span style=\"color: #008080; text-decoration-color: #008080; font-weight: bold\">2.74</span>\n",
       "</pre>\n"
      ],
      "text/plain": [
       "\n",
       "\n",
       "Mean AT as percentage of absence: \u001b[1;36m2.74\u001b[0m\n"
      ]
     },
     "metadata": {},
     "output_type": "display_data"
    },
    {
     "data": {
      "text/html": [
       "<pre style=\"white-space:pre;overflow-x:auto;line-height:normal;font-family:Menlo,'DejaVu Sans Mono',consolas,'Courier New',monospace\">\n",
       "\n",
       "\n",
       "\n",
       "<span style=\"font-weight: bold\">Local authority-level analysis </span><span style=\"color: #008080; text-decoration-color: #008080; font-weight: bold\">23</span><span style=\"font-weight: bold\">/</span><span style=\"color: #008080; text-decoration-color: #008080; font-weight: bold\">24</span>\n",
       "</pre>\n"
      ],
      "text/plain": [
       "\n",
       "\n",
       "\n",
       "\n",
       "\u001b[1mLocal authority-level analysis \u001b[0m\u001b[1;36m23\u001b[0m\u001b[1m/\u001b[0m\u001b[1;36m24\u001b[0m\n"
      ]
     },
     "metadata": {},
     "output_type": "display_data"
    },
    {
     "data": {
      "text/html": [
       "<pre style=\"white-space:pre;overflow-x:auto;line-height:normal;font-family:Menlo,'DejaVu Sans Mono',consolas,'Courier New',monospace\">\n",
       "\n",
       "Top <span style=\"color: #008080; text-decoration-color: #008080; font-weight: bold\">5</span> local authorities by attendance <span style=\"color: #008080; text-decoration-color: #008080; font-weight: bold\">23</span>/<span style=\"color: #008080; text-decoration-color: #008080; font-weight: bold\">24</span>\n",
       "                   la_name  weighted_mean_attendance_2324\n",
       "<span style=\"color: #008080; text-decoration-color: #008080; font-weight: bold\">99</span>   Richmond upon Thames                          <span style=\"color: #008080; text-decoration-color: #008080; font-weight: bold\">95.37</span>\n",
       "<span style=\"color: #008080; text-decoration-color: #008080; font-weight: bold\">102</span>               Rutland                          <span style=\"color: #008080; text-decoration-color: #008080; font-weight: bold\">95.26</span>\n",
       "<span style=\"color: #008080; text-decoration-color: #008080; font-weight: bold\">147</span>             Wokingham                          <span style=\"color: #008080; text-decoration-color: #008080; font-weight: bold\">94.92</span>\n",
       "<span style=\"color: #008080; text-decoration-color: #008080; font-weight: bold\">13</span>                  Brent                          <span style=\"color: #008080; text-decoration-color: #008080; font-weight: bold\">94.90</span>\n",
       "<span style=\"color: #008080; text-decoration-color: #008080; font-weight: bold\">136</span>            Warrington                          <span style=\"color: #008080; text-decoration-color: #008080; font-weight: bold\">94.87</span>\n",
       "</pre>\n"
      ],
      "text/plain": [
       "\n",
       "\n",
       "Top \u001b[1;36m5\u001b[0m local authorities by attendance \u001b[1;36m23\u001b[0m/\u001b[1;36m24\u001b[0m\n",
       "                   la_name  weighted_mean_attendance_2324\n",
       "\u001b[1;36m99\u001b[0m   Richmond upon Thames                          \u001b[1;36m95.37\u001b[0m\n",
       "\u001b[1;36m102\u001b[0m               Rutland                          \u001b[1;36m95.26\u001b[0m\n",
       "\u001b[1;36m147\u001b[0m             Wokingham                          \u001b[1;36m94.92\u001b[0m\n",
       "\u001b[1;36m13\u001b[0m                  Brent                          \u001b[1;36m94.90\u001b[0m\n",
       "\u001b[1;36m136\u001b[0m            Warrington                          \u001b[1;36m94.87\u001b[0m\n"
      ]
     },
     "metadata": {},
     "output_type": "display_data"
    },
    {
     "data": {
      "text/html": [
       "<pre style=\"white-space:pre;overflow-x:auto;line-height:normal;font-family:Menlo,'DejaVu Sans Mono',consolas,'Courier New',monospace\">\n",
       "\n",
       "Bottom <span style=\"color: #008080; text-decoration-color: #008080; font-weight: bold\">5</span> local authorities by attendance <span style=\"color: #008080; text-decoration-color: #008080; font-weight: bold\">23</span>/<span style=\"color: #008080; text-decoration-color: #008080; font-weight: bold\">24</span>\n",
       "            la_name  weighted_mean_attendance_2324\n",
       "<span style=\"color: #008080; text-decoration-color: #008080; font-weight: bold\">89</span>      Nottingham                          <span style=\"color: #008080; text-decoration-color: #008080; font-weight: bold\">92.89</span>\n",
       "<span style=\"color: #008080; text-decoration-color: #008080; font-weight: bold\">77</span>   Middlesbrough                          <span style=\"color: #008080; text-decoration-color: #008080; font-weight: bold\">92.83</span>\n",
       "<span style=\"color: #008080; text-decoration-color: #008080; font-weight: bold\">64</span>        Knowsley                          <span style=\"color: #008080; text-decoration-color: #008080; font-weight: bold\">92.80</span>\n",
       "<span style=\"color: #008080; text-decoration-color: #008080; font-weight: bold\">122</span>     Sunderland                          <span style=\"color: #008080; text-decoration-color: #008080; font-weight: bold\">92.70</span>\n",
       "<span style=\"color: #008080; text-decoration-color: #008080; font-weight: bold\">8</span>        Blackpool                          <span style=\"color: #008080; text-decoration-color: #008080; font-weight: bold\">92.61</span>\n",
       "</pre>\n"
      ],
      "text/plain": [
       "\n",
       "\n",
       "Bottom \u001b[1;36m5\u001b[0m local authorities by attendance \u001b[1;36m23\u001b[0m/\u001b[1;36m24\u001b[0m\n",
       "            la_name  weighted_mean_attendance_2324\n",
       "\u001b[1;36m89\u001b[0m      Nottingham                          \u001b[1;36m92.89\u001b[0m\n",
       "\u001b[1;36m77\u001b[0m   Middlesbrough                          \u001b[1;36m92.83\u001b[0m\n",
       "\u001b[1;36m64\u001b[0m        Knowsley                          \u001b[1;36m92.80\u001b[0m\n",
       "\u001b[1;36m122\u001b[0m     Sunderland                          \u001b[1;36m92.70\u001b[0m\n",
       "\u001b[1;36m8\u001b[0m        Blackpool                          \u001b[1;36m92.61\u001b[0m\n"
      ]
     },
     "metadata": {},
     "output_type": "display_data"
    },
    {
     "data": {
      "text/html": [
       "<pre style=\"white-space:pre;overflow-x:auto;line-height:normal;font-family:Menlo,'DejaVu Sans Mono',consolas,'Courier New',monospace\">\n",
       "\n",
       "\n",
       "Top <span style=\"color: #008080; text-decoration-color: #008080; font-weight: bold\">5</span> local authorities by unauthorised absence <span style=\"color: #008080; text-decoration-color: #008080; font-weight: bold\">23</span>/<span style=\"color: #008080; text-decoration-color: #008080; font-weight: bold\">24</span>\n",
       "           la_name  weighted_mean_unauthorised_2324\n",
       "<span style=\"color: #008080; text-decoration-color: #008080; font-weight: bold\">8</span>       Blackpool                             <span style=\"color: #008080; text-decoration-color: #008080; font-weight: bold\">3.53</span>\n",
       "<span style=\"color: #008080; text-decoration-color: #008080; font-weight: bold\">64</span>       Knowsley                             <span style=\"color: #008080; text-decoration-color: #008080; font-weight: bold\">3.29</span>\n",
       "<span style=\"color: #008080; text-decoration-color: #008080; font-weight: bold\">80</span>         Newham                             <span style=\"color: #008080; text-decoration-color: #008080; font-weight: bold\">3.11</span>\n",
       "<span style=\"color: #008080; text-decoration-color: #008080; font-weight: bold\">89</span>     Nottingham                             <span style=\"color: #008080; text-decoration-color: #008080; font-weight: bold\">3.06</span>\n",
       "<span style=\"color: #008080; text-decoration-color: #008080; font-weight: bold\">77</span>  Middlesbrough                             <span style=\"color: #008080; text-decoration-color: #008080; font-weight: bold\">2.97</span>\n",
       "</pre>\n"
      ],
      "text/plain": [
       "\n",
       "\n",
       "\n",
       "Top \u001b[1;36m5\u001b[0m local authorities by unauthorised absence \u001b[1;36m23\u001b[0m/\u001b[1;36m24\u001b[0m\n",
       "           la_name  weighted_mean_unauthorised_2324\n",
       "\u001b[1;36m8\u001b[0m       Blackpool                             \u001b[1;36m3.53\u001b[0m\n",
       "\u001b[1;36m64\u001b[0m       Knowsley                             \u001b[1;36m3.29\u001b[0m\n",
       "\u001b[1;36m80\u001b[0m         Newham                             \u001b[1;36m3.11\u001b[0m\n",
       "\u001b[1;36m89\u001b[0m     Nottingham                             \u001b[1;36m3.06\u001b[0m\n",
       "\u001b[1;36m77\u001b[0m  Middlesbrough                             \u001b[1;36m2.97\u001b[0m\n"
      ]
     },
     "metadata": {},
     "output_type": "display_data"
    },
    {
     "data": {
      "text/html": [
       "<pre style=\"white-space:pre;overflow-x:auto;line-height:normal;font-family:Menlo,'DejaVu Sans Mono',consolas,'Courier New',monospace\">\n",
       "\n",
       "Bottom <span style=\"color: #008080; text-decoration-color: #008080; font-weight: bold\">5</span> local authorities by unauthorised absence <span style=\"color: #008080; text-decoration-color: #008080; font-weight: bold\">23</span>/<span style=\"color: #008080; text-decoration-color: #008080; font-weight: bold\">24</span>\n",
       "                       la_name  weighted_mean_unauthorised_2324\n",
       "<span style=\"color: #008080; text-decoration-color: #008080; font-weight: bold\">1</span>                      Barnet                             <span style=\"color: #008080; text-decoration-color: #008080; font-weight: bold\">1.10</span>\n",
       "<span style=\"color: #008080; text-decoration-color: #008080; font-weight: bold\">107</span>                Shropshire                             <span style=\"color: #008080; text-decoration-color: #008080; font-weight: bold\">1.07</span>\n",
       "<span style=\"color: #008080; text-decoration-color: #008080; font-weight: bold\">50</span>                     Harrow                             <span style=\"color: #008080; text-decoration-color: #008080; font-weight: bold\">1.06</span>\n",
       "<span style=\"color: #008080; text-decoration-color: #008080; font-weight: bold\">53</span>   Herefordshire, County of                             <span style=\"color: #008080; text-decoration-color: #008080; font-weight: bold\">0.95</span>\n",
       "<span style=\"color: #008080; text-decoration-color: #008080; font-weight: bold\">102</span>                   Rutland                             <span style=\"color: #008080; text-decoration-color: #008080; font-weight: bold\">0.76</span>\n",
       "</pre>\n"
      ],
      "text/plain": [
       "\n",
       "\n",
       "Bottom \u001b[1;36m5\u001b[0m local authorities by unauthorised absence \u001b[1;36m23\u001b[0m/\u001b[1;36m24\u001b[0m\n",
       "                       la_name  weighted_mean_unauthorised_2324\n",
       "\u001b[1;36m1\u001b[0m                      Barnet                             \u001b[1;36m1.10\u001b[0m\n",
       "\u001b[1;36m107\u001b[0m                Shropshire                             \u001b[1;36m1.07\u001b[0m\n",
       "\u001b[1;36m50\u001b[0m                     Harrow                             \u001b[1;36m1.06\u001b[0m\n",
       "\u001b[1;36m53\u001b[0m   Herefordshire, County of                             \u001b[1;36m0.95\u001b[0m\n",
       "\u001b[1;36m102\u001b[0m                   Rutland                             \u001b[1;36m0.76\u001b[0m\n"
      ]
     },
     "metadata": {},
     "output_type": "display_data"
    },
    {
     "data": {
      "text/html": [
       "<pre style=\"white-space:pre;overflow-x:auto;line-height:normal;font-family:Menlo,'DejaVu Sans Mono',consolas,'Courier New',monospace\">\n",
       "\n",
       "\n",
       "Top <span style=\"color: #008080; text-decoration-color: #008080; font-weight: bold\">5</span> local authorities by reason for absence - excluded <span style=\"color: #008080; text-decoration-color: #008080; font-weight: bold\">23</span>/<span style=\"color: #008080; text-decoration-color: #008080; font-weight: bold\">24</span>\n",
       "                  la_name  weighted_mean_excluded_2324\n",
       "<span style=\"color: #008080; text-decoration-color: #008080; font-weight: bold\">120</span>       Stoke-on-Trent                         <span style=\"color: #008080; text-decoration-color: #008080; font-weight: bold\">0.20</span>\n",
       "<span style=\"color: #008080; text-decoration-color: #008080; font-weight: bold\">129</span>               Torbay                         <span style=\"color: #008080; text-decoration-color: #008080; font-weight: bold\">0.18</span>\n",
       "<span style=\"color: #008080; text-decoration-color: #008080; font-weight: bold\">122</span>           Sunderland                         <span style=\"color: #008080; text-decoration-color: #008080; font-weight: bold\">0.17</span>\n",
       "<span style=\"color: #008080; text-decoration-color: #008080; font-weight: bold\">79</span>   Newcastle upon Tyne                         <span style=\"color: #008080; text-decoration-color: #008080; font-weight: bold\">0.17</span>\n",
       "<span style=\"color: #008080; text-decoration-color: #008080; font-weight: bold\">2</span>               Barnsley                         <span style=\"color: #008080; text-decoration-color: #008080; font-weight: bold\">0.16</span>\n",
       "</pre>\n"
      ],
      "text/plain": [
       "\n",
       "\n",
       "\n",
       "Top \u001b[1;36m5\u001b[0m local authorities by reason for absence - excluded \u001b[1;36m23\u001b[0m/\u001b[1;36m24\u001b[0m\n",
       "                  la_name  weighted_mean_excluded_2324\n",
       "\u001b[1;36m120\u001b[0m       Stoke-on-Trent                         \u001b[1;36m0.20\u001b[0m\n",
       "\u001b[1;36m129\u001b[0m               Torbay                         \u001b[1;36m0.18\u001b[0m\n",
       "\u001b[1;36m122\u001b[0m           Sunderland                         \u001b[1;36m0.17\u001b[0m\n",
       "\u001b[1;36m79\u001b[0m   Newcastle upon Tyne                         \u001b[1;36m0.17\u001b[0m\n",
       "\u001b[1;36m2\u001b[0m               Barnsley                         \u001b[1;36m0.16\u001b[0m\n"
      ]
     },
     "metadata": {},
     "output_type": "display_data"
    },
    {
     "data": {
      "text/html": [
       "<pre style=\"white-space:pre;overflow-x:auto;line-height:normal;font-family:Menlo,'DejaVu Sans Mono',consolas,'Courier New',monospace\">\n",
       "\n",
       "Bottom <span style=\"color: #008080; text-decoration-color: #008080; font-weight: bold\">5</span> local authorities by reason for absence - excluded <span style=\"color: #008080; text-decoration-color: #008080; font-weight: bold\">23</span>/<span style=\"color: #008080; text-decoration-color: #008080; font-weight: bold\">24</span>\n",
       "                   la_name  weighted_mean_excluded_2324\n",
       "<span style=\"color: #008080; text-decoration-color: #008080; font-weight: bold\">130</span>         Tower Hamlets                         <span style=\"color: #008080; text-decoration-color: #008080; font-weight: bold\">0.03</span>\n",
       "<span style=\"color: #008080; text-decoration-color: #008080; font-weight: bold\">99</span>   Richmond upon Thames                         <span style=\"color: #008080; text-decoration-color: #008080; font-weight: bold\">0.03</span>\n",
       "<span style=\"color: #008080; text-decoration-color: #008080; font-weight: bold\">37</span>                 Ealing                         <span style=\"color: #008080; text-decoration-color: #008080; font-weight: bold\">0.03</span>\n",
       "<span style=\"color: #008080; text-decoration-color: #008080; font-weight: bold\">50</span>                 Harrow                         <span style=\"color: #008080; text-decoration-color: #008080; font-weight: bold\">0.03</span>\n",
       "<span style=\"color: #008080; text-decoration-color: #008080; font-weight: bold\">62</span>   Kingston upon Thames                         <span style=\"color: #008080; text-decoration-color: #008080; font-weight: bold\">0.02</span>\n",
       "</pre>\n"
      ],
      "text/plain": [
       "\n",
       "\n",
       "Bottom \u001b[1;36m5\u001b[0m local authorities by reason for absence - excluded \u001b[1;36m23\u001b[0m/\u001b[1;36m24\u001b[0m\n",
       "                   la_name  weighted_mean_excluded_2324\n",
       "\u001b[1;36m130\u001b[0m         Tower Hamlets                         \u001b[1;36m0.03\u001b[0m\n",
       "\u001b[1;36m99\u001b[0m   Richmond upon Thames                         \u001b[1;36m0.03\u001b[0m\n",
       "\u001b[1;36m37\u001b[0m                 Ealing                         \u001b[1;36m0.03\u001b[0m\n",
       "\u001b[1;36m50\u001b[0m                 Harrow                         \u001b[1;36m0.03\u001b[0m\n",
       "\u001b[1;36m62\u001b[0m   Kingston upon Thames                         \u001b[1;36m0.02\u001b[0m\n"
      ]
     },
     "metadata": {},
     "output_type": "display_data"
    }
   ],
   "source": [
    "#24/25\n",
    "print(\"[bold]Local authority-level analysis 24/25[/bold]\")\n",
    "\n",
    "\n",
    "#Attendance by local authority 24/25\n",
    "mean_by_la_2425 = (\n",
    "    ytd_2425.groupby('la_name', as_index=False)\n",
    "    .agg(weighted_mean_attendance_2425=('attendance_perc', lambda x: (x * ytd_2425.loc[x.index, 'num_schools']).sum() / ytd_2425.loc[x.index, 'num_schools'].sum()))\n",
    ")\n",
    "\n",
    "mean_by_la_2425['weighted_mean_attendance_2425'] = mean_by_la_2425['weighted_mean_attendance_2425'].astype(float).round(2)\n",
    "\n",
    "sorted_mean_by_la_2425 = mean_by_la_2425.sort_values(by='weighted_mean_attendance_2425', ascending=False)\n",
    "\n",
    "top_5_2425 = sorted_mean_by_la_2425.head(5)\n",
    "bottom_5_2425 = sorted_mean_by_la_2425.tail(5)\n",
    "\n",
    "print(\"\\n\\nTop 5 local authorities by attendance 24/25\\n\", top_5_2425)\n",
    "print(\"\\n\\nBottom 5 local authorities by attendance 24/25\\n\", bottom_5_2425)\n",
    "print(f\"\\n\\nMean local authority attendance: {weighted_mean_2425:.2f}\")\n",
    "\n",
    "\n",
    "\n",
    "#Unauthorised absence by local authority 24/25\n",
    "mean_unauthorised_by_la_2425 = (\n",
    "    ytd_2425.groupby('la_name', as_index=False)\n",
    "    .agg(weighted_mean_unauthorised_2425=('unauthorised_absence_perc', lambda x: (x * ytd_2425.loc[x.index, 'num_schools']).sum() / ytd_2425.loc[x.index, 'num_schools'].sum()))\n",
    ")\n",
    "\n",
    "mean_unauthorised_by_la_2425['weighted_mean_unauthorised_2425'] = mean_unauthorised_by_la_2425['weighted_mean_unauthorised_2425'].astype(float).round(2)\n",
    "\n",
    "sorted_mean_unauthorised_by_la_2425 = mean_unauthorised_by_la_2425.sort_values(by='weighted_mean_unauthorised_2425', ascending=False)\n",
    "top_5_AT_2425 = sorted_mean_unauthorised_by_la_2425.head(5)\n",
    "bottom_5_AT_2425 = sorted_mean_unauthorised_by_la_2425.tail(5)\n",
    "\n",
    "print(\"\\n\\n\\nTop 5 local authorities by unauthorised absence 24/25\\n\", top_5_AT_2425)\n",
    "print(\"\\n\\nBottom 5 local authorities by unauthorised absence 24/25\\n\", bottom_5_AT_2425)\n",
    "print(f\"\\n\\nMean local authority unauthorised absence: {weighted_mean_unauth_2425:.2f}\")\n",
    "\n",
    "\n",
    "#Reason for absence - exclusion, by local authority 24/25\n",
    "mean_excluded_by_la_2425 = (\n",
    "    ytd_2425.groupby('la_name', as_index=False)\n",
    "    .agg(weighted_mean_excluded_2425=('auth_excluded_perc', lambda x: (x * ytd_2425.loc[x.index, 'num_schools']).sum() / ytd_2425.loc[x.index, 'num_schools'].sum()))\n",
    ")\n",
    "\n",
    "mean_excluded_by_la_2425['weighted_mean_excluded_2425'] = mean_excluded_by_la_2425['weighted_mean_excluded_2425'].astype(float).round(2)\n",
    "\n",
    "sorted_mean_excluded_by_la_2425 = mean_excluded_by_la_2425.sort_values(by='weighted_mean_excluded_2425', ascending=False)\n",
    "top_5_excluded_2425 = sorted_mean_excluded_by_la_2425.head(5)\n",
    "bottom_5_excluded_2425 = sorted_mean_excluded_by_la_2425.tail(5)\n",
    "\n",
    "print(\"\\n\\n\\nTop 5 local authorities by reason for absence - excluded 24/25\\n\", top_5_excluded_2425)\n",
    "print(\"\\n\\nBottom 5 local authorities by reason for absence - excluded 24/25\\n\", bottom_5_excluded_2425)\n",
    "print(f\"\\n\\nMean local authority reason for absence - excluded: {weighted_mean_exclusions_2425:.2f}\")\n",
    "\n",
    "\n",
    "#Reasons for absence - adapted timetables, by local authority 24/25\n",
    "mean_AT_by_la_2425 = (\n",
    "    ytd_2425.groupby('la_name', as_index=False)\n",
    "    .agg(weighted_mean_AT_2425=('auth_part_time_perc', lambda x: (x * ytd_2425.loc[x.index, 'num_schools']).sum() / ytd_2425.loc[x.index, 'num_schools'].sum()))\n",
    ")\n",
    "\n",
    "mean_AT_by_la_2425['weighted_mean_AT_2425'] = mean_AT_by_la_2425['weighted_mean_AT_2425'].astype(float).round(2)\n",
    "\n",
    "sorted_mean_AT_by_la_2425 = mean_AT_by_la_2425.sort_values(by='weighted_mean_AT_2425', ascending=False)\n",
    "top_5_AT_2425 = sorted_mean_AT_by_la_2425.head(5)\n",
    "bottom_5_AT_2425 = sorted_mean_AT_by_la_2425.tail(5)\n",
    "\n",
    "print(\"\\n\\n\\nTop 5 local authorities by reason for absence - adapted timetable 24/25\\n\", top_5_AT_2425)\n",
    "print(\"\\n\\nBottom 5 local authorities by reason for absence - adapted timetable 24/25\\n\", bottom_5_AT_2425)\n",
    "print(f\"\\n\\nMean local authority reason for absence - adapted timetable: {weighted_mean_adapted_timetables_2425:.2f}\")\n",
    "\n",
    "\n",
    "#Adapted timetables as a percentage of absence 24/25\n",
    "\n",
    "mean_by_la_2425['absence_perc'] = 100 - mean_by_la_2425['weighted_mean_attendance_2425']\n",
    "\n",
    "mean_AT_by_la_2425 = mean_AT_by_la_2425.merge(mean_by_la_2425[['la_name', 'absence_perc']], on='la_name')\n",
    "\n",
    "mean_AT_by_la_2425['AT_as_pct_of_absence'] = (\n",
    "    mean_AT_by_la_2425['weighted_mean_AT_2425'] / mean_AT_by_la_2425['absence_perc'] * 100\n",
    ")\n",
    "\n",
    "sorted_mean_AT_by_la_2425 = mean_AT_by_la_2425.sort_values(by='AT_as_pct_of_absence', ascending=False)\n",
    "top_5_AT_pct_2425 = sorted_mean_AT_by_la_2425.head(5)\n",
    "bottom_5_AT_pct_2425 = sorted_mean_AT_by_la_2425.tail(5)\n",
    "\n",
    "print(\"\\n\\n\\nTop 5 local authorities by adapted timetable absences as percentage of absence 24/25\\n\", top_5_AT_pct_2425)\n",
    "print(\"\\n\\nBottom 5 local authorities by adapted timetable absences as a percentage of overall absence - 24/25\\n\", bottom_5_AT_pct_2425)\n",
    "\n",
    "mean_of_mean = mean_AT_by_la_2425['AT_as_pct_of_absence'].mean()\n",
    "\n",
    "print(f\"\\n\\nMean AT as percentage of absence: {mean_of_mean:.2f}\")\n",
    "\n",
    "\n",
    "\n",
    "#23/24\n",
    "print(\"\\n\\n\\n\\n[bold]Local authority-level analysis 23/24[/bold]\")\n",
    "\n",
    "\n",
    "#Attendance by local authority 23/24\n",
    "mean_by_la_2324 = (\n",
    "    ytd_2324.groupby('la_name', as_index=False)\n",
    "    .agg(weighted_mean_attendance_2324=('attendance_perc', lambda x: (x * ytd_2324.loc[x.index, 'num_schools']).sum() / ytd_2324.loc[x.index, 'num_schools'].sum()))\n",
    ")\n",
    "\n",
    "mean_by_la_2324['weighted_mean_attendance_2324'] = mean_by_la_2324['weighted_mean_attendance_2324'].astype(float).round(2)\n",
    "\n",
    "sorted_mean_by_la_2324 = mean_by_la_2324.sort_values(by='weighted_mean_attendance_2324', ascending=False)\n",
    "\n",
    "top_5_2324 = sorted_mean_by_la_2324.head(5)\n",
    "bottom_5_2324 = sorted_mean_by_la_2324.tail(5)\n",
    "\n",
    "print(\"\\n\\nTop 5 local authorities by attendance 23/24\\n\", top_5_2324)\n",
    "print(\"\\n\\nBottom 5 local authorities by attendance 23/24\\n\", bottom_5_2324)\n",
    "\n",
    "\n",
    "#Unauthorised absence by local authority 23/24\n",
    "mean_unauthorised_by_la_2324 = (\n",
    "    ytd_2324.groupby('la_name', as_index=False)\n",
    "    .agg(weighted_mean_unauthorised_2324=('unauthorised_absence_perc', lambda x: (x * ytd_2324.loc[x.index, 'num_schools']).sum() / ytd_2324.loc[x.index, 'num_schools'].sum()))\n",
    ")\n",
    "\n",
    "mean_unauthorised_by_la_2324['weighted_mean_unauthorised_2324'] = mean_unauthorised_by_la_2324['weighted_mean_unauthorised_2324'].astype(float).round(2)\n",
    "\n",
    "sorted_mean_unauthorised_by_la_2324 = mean_unauthorised_by_la_2324.sort_values(by='weighted_mean_unauthorised_2324', ascending=False)\n",
    "top_5_AT_2324 = sorted_mean_unauthorised_by_la_2324.head(5)\n",
    "bottom_5_AT_2324 = sorted_mean_unauthorised_by_la_2324.tail(5)\n",
    "\n",
    "print(\"\\n\\n\\nTop 5 local authorities by unauthorised absence 23/24\\n\", top_5_AT_2324)\n",
    "print(\"\\n\\nBottom 5 local authorities by unauthorised absence 23/24\\n\", bottom_5_AT_2324)\n",
    "\n",
    "\n",
    "#Reason for absence - exclusion, by local authority 23/24\n",
    "mean_excluded_by_la_2324 = (\n",
    "    ytd_2324.groupby('la_name', as_index=False)\n",
    "    .agg(weighted_mean_excluded_2324=('auth_excluded_perc', lambda x: (x * ytd_2324.loc[x.index, 'num_schools']).sum() / ytd_2324.loc[x.index, 'num_schools'].sum()))\n",
    ")\n",
    "\n",
    "mean_excluded_by_la_2324['weighted_mean_excluded_2324'] = mean_excluded_by_la_2324['weighted_mean_excluded_2324'].astype(float).round(2)\n",
    "\n",
    "sorted_mean_excluded_by_la_2324 = mean_excluded_by_la_2324.sort_values(by='weighted_mean_excluded_2324', ascending=False)\n",
    "top_5_excluded_2324 = sorted_mean_excluded_by_la_2324.head(5)\n",
    "bottom_5_excluded_2324 = sorted_mean_excluded_by_la_2324.tail(5)\n",
    "\n",
    "print(\"\\n\\n\\nTop 5 local authorities by reason for absence - excluded 23/24\\n\", top_5_excluded_2324)\n",
    "print(\"\\n\\nBottom 5 local authorities by reason for absence - excluded 23/24\\n\", bottom_5_excluded_2324)"
   ]
  },
  {
   "cell_type": "markdown",
   "id": "296ff41d-9fb0-428d-97dc-69591c7f3380",
   "metadata": {},
   "source": [
    "<br><br>\n",
    "\n",
    "***Pupil characteristics analysis***\n",
    "\n",
    "Separate datasets have been merged to produce percentages by local authority for students with FSM and SEND."
   ]
  },
  {
   "cell_type": "code",
   "execution_count": 10,
   "id": "bead01d6-d9a8-4a1b-a8d5-9a234fc9b5dc",
   "metadata": {},
   "outputs": [
    {
     "data": {
      "text/html": [
       "<pre style=\"white-space:pre;overflow-x:auto;line-height:normal;font-family:Menlo,'DejaVu Sans Mono',consolas,'Courier New',monospace\">Correlation coefficient: <span style=\"color: #008080; text-decoration-color: #008080; font-weight: bold\">-0.5838702897210377</span>\n",
       "</pre>\n"
      ],
      "text/plain": [
       "Correlation coefficient: \u001b[1;36m-0.5838702897210377\u001b[0m\n"
      ]
     },
     "metadata": {},
     "output_type": "display_data"
    },
    {
     "data": {
      "text/html": [
       "<pre style=\"white-space:pre;overflow-x:auto;line-height:normal;font-family:Menlo,'DejaVu Sans Mono',consolas,'Courier New',monospace\">P-value: <span style=\"color: #008080; text-decoration-color: #008080; font-weight: bold\">3.585565200066343e-15</span>\n",
       "</pre>\n"
      ],
      "text/plain": [
       "P-value: \u001b[1;36m3.585565200066343e-15\u001b[0m\n"
      ]
     },
     "metadata": {},
     "output_type": "display_data"
    },
    {
     "data": {
      "image/png": "[encoded data removed]",
      "text/plain": [
       "<Figure size 750x500 with 1 Axes>"
      ]
     },
     "metadata": {},
     "output_type": "display_data"
    }
   ],
   "source": [
    "#FSM\n",
    "\n",
    "FSM = pd.read_csv('spc_pupils_fsm.csv')\n",
    "\n",
    "FSM['time_period'] = FSM['time_period'].astype(str)\n",
    "\n",
    "FSM_filtered = FSM[\n",
    "    (FSM['time_period'] == '202324')\n",
    "]\n",
    "\n",
    "LA_with_FSM = pd.merge(mean_by_la_2425, FSM_filtered[['la_name', 'percent_of_pupils']], on='la_name', how='left')\n",
    "\n",
    "LA_with_FSM['FSM_percentage'] = pd.to_numeric(LA_with_FSM['percent_of_pupils'], errors='coerce')\n",
    "\n",
    "corr_coefficient, p_value = stats.pearsonr(LA_with_FSM['weighted_mean_attendance_2425'], LA_with_FSM['FSM_percentage'])\n",
    "\n",
    "print(f\"Correlation coefficient: {corr_coefficient}\")\n",
    "print(f\"P-value: {p_value}\")\n",
    "\n",
    "sns.lmplot(x='percent_of_pupils', y='weighted_mean_attendance_2425', data=LA_with_FSM, aspect=1.5)\n",
    "plt.title('Impact of free school meals on attendance')\n",
    "plt.ylabel('Attendance (%)', fontsize=11)\n",
    "plt.xlabel('FSM (%)', fontsize=11)\n",
    "plt.show()"
   ]
  },
  {
   "cell_type": "code",
   "execution_count": 11,
   "id": "cc6f20bb-36e8-49c9-934f-0a020c8ff44a",
   "metadata": {},
   "outputs": [
    {
     "data": {
      "text/html": [
       "<pre style=\"white-space:pre;overflow-x:auto;line-height:normal;font-family:Menlo,'DejaVu Sans Mono',consolas,'Courier New',monospace\">Correlation coefficient: <span style=\"color: #008080; text-decoration-color: #008080; font-weight: bold\">-0.4381675885719388</span>\n",
       "</pre>\n"
      ],
      "text/plain": [
       "Correlation coefficient: \u001b[1;36m-0.4381675885719388\u001b[0m\n"
      ]
     },
     "metadata": {},
     "output_type": "display_data"
    },
    {
     "data": {
      "text/html": [
       "<pre style=\"white-space:pre;overflow-x:auto;line-height:normal;font-family:Menlo,'DejaVu Sans Mono',consolas,'Courier New',monospace\">P-value: <span style=\"color: #008080; text-decoration-color: #008080; font-weight: bold\">1.8370603356424564e-08</span>\n",
       "</pre>\n"
      ],
      "text/plain": [
       "P-value: \u001b[1;36m1.8370603356424564e-08\u001b[0m\n"
      ]
     },
     "metadata": {},
     "output_type": "display_data"
    },
    {
     "data": {
      "image/png": "[encoded data removed]",
      "text/plain": [
       "<Figure size 750x500 with 1 Axes>"
      ]
     },
     "metadata": {},
     "output_type": "display_data"
    }
   ],
   "source": [
    "#SEND\n",
    "\n",
    "SEND = pd.read_csv('sen_phase_type_new.csv')\n",
    "\n",
    "SEND = SEND[~SEND['geographic_level'].isin(['Regional', 'National'])]\n",
    "\n",
    "SEND = SEND[~SEND['phase_type_grouping'].isin(['Total'])]\n",
    "\n",
    "SEND.loc[:, 'total_pupils'] = pd.to_numeric(SEND['total_pupils'], errors='coerce')\n",
    "SEND = SEND.dropna(subset=['total_pupils'])\n",
    "\n",
    "SEND.loc[:, 'sen_support'] = pd.to_numeric(SEND['sen_support'], errors='coerce')\n",
    "SEND = SEND.dropna(subset=['sen_support'])\n",
    "\n",
    "SEND_by_LA = SEND.groupby('la_name').agg({\n",
    "    'sen_support': 'sum',\n",
    "    'total_pupils': 'sum'\n",
    "}).reset_index()\n",
    "\n",
    "SEND_by_LA['SEND_perc'] = (SEND_by_LA['sen_support'] / SEND_by_LA['total_pupils']) * 100\n",
    "\n",
    "SEND_by_LA_attendance = pd.merge(SEND_by_LA, mean_by_la_2425[['la_name', 'weighted_mean_attendance_2425']], on='la_name', how='left')\n",
    "\n",
    "SEND_by_LA_attendance['weighted_mean_attendance_2425'] = pd.to_numeric(\n",
    "    SEND_by_LA_attendance['weighted_mean_attendance_2425'], errors='coerce')\n",
    "SEND_by_LA_attendance['SEND_perc'] = pd.to_numeric(\n",
    "    SEND_by_LA_attendance['SEND_perc'], errors='coerce')\n",
    "\n",
    "SEND_by_LA_attendance = SEND_by_LA_attendance.dropna(\n",
    "    subset=['weighted_mean_attendance_2425', 'SEND_perc'])\n",
    "\n",
    "corr_coefficient_SEND, p_value_SEND = stats.pearsonr(SEND_by_LA_attendance['weighted_mean_attendance_2425'], SEND_by_LA_attendance['SEND_perc'])\n",
    "\n",
    "print(f\"Correlation coefficient: {corr_coefficient_SEND}\")\n",
    "print(f\"P-value: {p_value_SEND}\")\n",
    "\n",
    "sns.lmplot(x='SEND_perc', y='weighted_mean_attendance_2425', data=SEND_by_LA_attendance, aspect=1.5)\n",
    "plt.title('Impact of SEND on attendance')\n",
    "plt.ylabel('Attendance (%)', fontsize=11)\n",
    "plt.xlabel('SEND (%)', fontsize=11)\n",
    "plt.show()"
   ]
  },
  {
   "cell_type": "markdown",
   "id": "d1338e43-7215-45a8-aaff-e011a2779b2c",
   "metadata": {},
   "source": [
    "<br><br>\n",
    "\n",
    "***Time series analysis***\n",
    "\n",
    "This analysis was ultimately not used in the final report. \n",
    "\n",
    "\"Daily\" dataset is used to plot attendance over time for the 24/25 Autumn term. The 23/24 Autumn term is also plotted to compare the trends."
   ]
  },
  {
   "cell_type": "code",
   "execution_count": 9,
   "id": "80f33885-d5f2-462e-b2f4-8f210b5128ca",
   "metadata": {},
   "outputs": [
    {
     "data": {
      "image/png": "[encoded data removed]",
      "text/plain": [
       "<Figure size 1000x600 with 1 Axes>"
      ]
     },
     "metadata": {},
     "output_type": "display_data"
    },
    {
     "data": {
      "image/png": "[encoded data removed]",
      "text/plain": [
       "<Figure size 1000x600 with 1 Axes>"
      ]
     },
     "metadata": {},
     "output_type": "display_data"
    }
   ],
   "source": [
    "# 24/25 attendance over time plot\n",
    "filtered_data_2425 = daily_2425[\n",
    "    (daily_2425['geographic_level'] == 'National') &\n",
    "    (daily_2425['education_phase'] == 'Total')\n",
    "]\n",
    "\n",
    "filtered_data_2425 = filtered_data_2425.sort_values(by='attendance_date')\n",
    "\n",
    "plt.figure(figsize=(10, 6))\n",
    "sns.lineplot(data=filtered_data_2425, x='attendance_date', y='attendance_perc', marker='o')\n",
    "\n",
    "plt.title('Attendance over the Autumn Term 24/25', fontsize=16)\n",
    "plt.ylabel('Attendance (%)', fontsize=14)\n",
    "plt.grid(True, linestyle='--', alpha=0.7)\n",
    "plt.xticks(rotation=45)\n",
    "plt.tight_layout()\n",
    "\n",
    "plt.show()\n",
    "\n",
    "# 23/24 attendance over time plot\n",
    "filtered_data_2324 = daily_2324[\n",
    "    (daily_2324['geographic_level'] == 'National') &\n",
    "    (daily_2324['school_type'] == 'Total')\n",
    "]\n",
    "\n",
    "filtered_data_2324 = filtered_data_2324.sort_values(by='attendance_date')\n",
    "\n",
    "plt.figure(figsize=(10, 6))\n",
    "sns.lineplot(data=filtered_data_2324, x='attendance_date', y='attendance_perc', marker='o')\n",
    "\n",
    "plt.title('Attendance over the Autumn Term 23/24', fontsize=16)\n",
    "plt.ylabel('Attendance (%)', fontsize=14)\n",
    "plt.grid(True, linestyle='--', alpha=0.7)\n",
    "plt.xticks(rotation=45)\n",
    "plt.tight_layout()\n",
    "\n",
    "# Show the plot\n",
    "plt.show()"
   ]
  }
 ],
 "metadata": {
  "kernelspec": {
   "display_name": "Python 3 (ipykernel)",
   "language": "python",
   "name": "python3"
  },
  "language_info": {
   "codemirror_mode": {
    "name": "ipython",
    "version": 3
   },
   "file_extension": ".py",
   "mimetype": "text/x-python",
   "name": "python",
   "nbconvert_exporter": "python",
   "pygments_lexer": "ipython3",
   "version": "3.12.7"
  }
 },
 "nbformat": 4,
 "nbformat_minor": 5
}
